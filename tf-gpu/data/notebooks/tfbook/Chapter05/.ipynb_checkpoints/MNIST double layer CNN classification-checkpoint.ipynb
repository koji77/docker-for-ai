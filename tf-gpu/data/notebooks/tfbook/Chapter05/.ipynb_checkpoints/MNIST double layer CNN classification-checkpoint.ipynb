{
 "cells": [
  {
   "cell_type": "markdown",
   "metadata": {
    "deletable": true,
    "editable": true
   },
   "source": [
    "**[CNN-01]** 必要なモジュールをインポートして、乱数のシードを設定します。"
   ]
  },
  {
   "cell_type": "code",
   "execution_count": 1,
   "metadata": {
    "collapsed": true,
    "deletable": true,
    "editable": true
   },
   "outputs": [],
   "source": [
    "# Chapter05で最初に実行\n",
    "import tensorflow as tf\n",
    "import numpy as np\n",
    "import matplotlib.pyplot as plt\n",
    "from tensorflow.examples.tutorials.mnist import input_data\n",
    "\n",
    "# jupyter notebook上にグラフを表示するために必要\n",
    "%matplotlib inline\n",
    "\n",
    "np.random.seed(20160704)\n",
    "tf.set_random_seed(20160704)"
   ]
  },
  {
   "cell_type": "markdown",
   "metadata": {
    "deletable": true,
    "editable": true
   },
   "source": [
    "**[CNN-02]** MNISTのデータセットを用意します。"
   ]
  },
  {
   "cell_type": "code",
   "execution_count": 2,
   "metadata": {
    "collapsed": false,
    "deletable": true,
    "editable": true
   },
   "outputs": [
    {
     "name": "stdout",
     "output_type": "stream",
     "text": [
      "Extracting /tmp/data/train-images-idx3-ubyte.gz\n",
      "Extracting /tmp/data/train-labels-idx1-ubyte.gz\n",
      "Extracting /tmp/data/t10k-images-idx3-ubyte.gz\n",
      "Extracting /tmp/data/t10k-labels-idx1-ubyte.gz\n"
     ]
    }
   ],
   "source": [
    "mnist = input_data.read_data_sets(\"/tmp/data/\", one_hot=True)"
   ]
  },
  {
   "cell_type": "markdown",
   "metadata": {
    "deletable": true,
    "editable": true
   },
   "source": [
    "**[CNN-03]** 1段目の畳み込みフィルターとプーリング層を定義します。"
   ]
  },
  {
   "cell_type": "code",
   "execution_count": 3,
   "metadata": {
    "collapsed": false,
    "deletable": true,
    "editable": true
   },
   "outputs": [],
   "source": [
    "num_filters1 = 32\n",
    "\n",
    "x = tf.placeholder(tf.float32, [None, 784])\n",
    "x_image = tf.reshape(x, [-1,28,28,1])\n",
    "\n",
    "W_conv1 = tf.Variable(tf.truncated_normal([5,5,1,num_filters1],\n",
    "                                          stddev=0.1))\n",
    "h_conv1 = tf.nn.conv2d(x_image, W_conv1,\n",
    "                       strides=[1,1,1,1], padding='SAME')\n",
    "\n",
    "b_conv1 = tf.Variable(tf.constant(0.1, shape=[num_filters1]))\n",
    "h_conv1_cutoff = tf.nn.relu(h_conv1 + b_conv1)\n",
    "\n",
    "h_pool1 = tf.nn.max_pool(h_conv1_cutoff, ksize=[1,2,2,1],\n",
    "                         strides=[1,2,2,1], padding='SAME')"
   ]
  },
  {
   "cell_type": "markdown",
   "metadata": {
    "deletable": true,
    "editable": true
   },
   "source": [
    "**[CNN-04]** 2段目の畳み込みフィルターとプーリング層を定義します。"
   ]
  },
  {
   "cell_type": "code",
   "execution_count": 4,
   "metadata": {
    "collapsed": false,
    "deletable": true,
    "editable": true
   },
   "outputs": [],
   "source": [
    "num_filters2 = 64\n",
    "\n",
    "W_conv2 = tf.Variable(\n",
    "            tf.truncated_normal([5,5,num_filters1,num_filters2],\n",
    "                                stddev=0.1))\n",
    "h_conv2 = tf.nn.conv2d(h_pool1, W_conv2,\n",
    "                       strides=[1,1,1,1], padding='SAME')\n",
    "\n",
    "b_conv2 = tf.Variable(tf.constant(0.1, shape=[num_filters2]))\n",
    "h_conv2_cutoff = tf.nn.relu(h_conv2 + b_conv2)\n",
    "\n",
    "h_pool2 = tf.nn.max_pool(h_conv2_cutoff, ksize=[1,2,2,1],\n",
    "                         strides=[1,2,2,1], padding='SAME')"
   ]
  },
  {
   "cell_type": "markdown",
   "metadata": {
    "deletable": true,
    "editable": true
   },
   "source": [
    "**[CNN-05]** 全結合層、ドロップアウト層、ソフトマックス関数を定義します。"
   ]
  },
  {
   "cell_type": "code",
   "execution_count": 5,
   "metadata": {
    "collapsed": false,
    "deletable": true,
    "editable": true
   },
   "outputs": [],
   "source": [
    "h_pool2_flat = tf.reshape(h_pool2, [-1, 7*7*num_filters2])\n",
    "\n",
    "num_units1 = 7*7*num_filters2\n",
    "num_units2 = 1024\n",
    "\n",
    "w2 = tf.Variable(tf.truncated_normal([num_units1, num_units2]))\n",
    "b2 = tf.Variable(tf.constant(0.1, shape=[num_units2]))\n",
    "hidden2 = tf.nn.relu(tf.matmul(h_pool2_flat, w2) + b2)\n",
    "\n",
    "keep_prob = tf.placeholder(tf.float32)\n",
    "hidden2_drop = tf.nn.dropout(hidden2, keep_prob)\n",
    "\n",
    "w0 = tf.Variable(tf.zeros([num_units2, 10]))\n",
    "b0 = tf.Variable(tf.zeros([10]))\n",
    "p = tf.nn.softmax(tf.matmul(hidden2_drop, w0) + b0)"
   ]
  },
  {
   "cell_type": "markdown",
   "metadata": {
    "deletable": true,
    "editable": true
   },
   "source": [
    "**[CNN-06]** 誤差関数 loss、トレーニングアルゴリズム train_step、正解率 accuracy を定義します。"
   ]
  },
  {
   "cell_type": "code",
   "execution_count": 6,
   "metadata": {
    "collapsed": true,
    "deletable": true,
    "editable": true
   },
   "outputs": [],
   "source": [
    "t = tf.placeholder(tf.float32, [None, 10])\n",
    "loss = -tf.reduce_sum(t * tf.log(p))\n",
    "train_step = tf.train.AdamOptimizer(0.0001).minimize(loss)\n",
    "correct_prediction = tf.equal(tf.argmax(p, 1), tf.argmax(t, 1))\n",
    "accuracy = tf.reduce_mean(tf.cast(correct_prediction, tf.float32))"
   ]
  },
  {
   "cell_type": "markdown",
   "metadata": {
    "deletable": true,
    "editable": true
   },
   "source": [
    "**[CNN-07]** セッションを用意して、Variable を初期化します。"
   ]
  },
  {
   "cell_type": "code",
   "execution_count": 7,
   "metadata": {
    "collapsed": false,
    "deletable": true,
    "editable": true
   },
   "outputs": [],
   "source": [
    "sess = tf.InteractiveSession()\n",
    "sess.run(tf.global_variables_initializer())\n",
    "saver = tf.train.Saver()"
   ]
  },
  {
   "cell_type": "markdown",
   "metadata": {
    "deletable": true,
    "editable": true
   },
   "source": [
    "**[CNN-08]** パラメーターの最適化を20000回繰り返します。\n",
    "\n",
    "最終的に、テストセットに対して約99%の正解率が得られます。"
   ]
  },
  {
   "cell_type": "code",
   "execution_count": 8,
   "metadata": {
    "collapsed": false,
    "deletable": true,
    "editable": true
   },
   "outputs": [
    {
     "name": "stdout",
     "output_type": "stream",
     "text": [
      "Step: 500, Loss: 1542.324219, Accuracy: 0.956000\n",
      "Step: 1000, Loss: 981.321167, Accuracy: 0.971100\n",
      "Step: 1500, Loss: 803.726807, Accuracy: 0.973400\n",
      "Step: 2000, Loss: 645.147278, Accuracy: 0.979000\n",
      "Step: 2500, Loss: 602.172607, Accuracy: 0.980800\n",
      "Step: 3000, Loss: 553.441162, Accuracy: 0.982200\n",
      "Step: 3500, Loss: 459.587769, Accuracy: 0.984500\n",
      "Step: 4000, Loss: 423.394104, Accuracy: 0.986800\n",
      "Step: 4500, Loss: 408.475708, Accuracy: 0.986500\n",
      "Step: 5000, Loss: 396.510315, Accuracy: 0.987100\n",
      "Step: 5500, Loss: 373.673187, Accuracy: 0.988800\n",
      "Step: 6000, Loss: 373.787140, Accuracy: 0.987300\n",
      "Step: 6500, Loss: 345.140289, Accuracy: 0.988300\n",
      "Step: 7000, Loss: 355.088654, Accuracy: 0.988800\n",
      "Step: 7500, Loss: 330.478088, Accuracy: 0.988300\n",
      "Step: 8000, Loss: 347.861694, Accuracy: 0.988300\n",
      "Step: 8500, Loss: 347.151367, Accuracy: 0.987900\n",
      "Step: 9000, Loss: 310.112366, Accuracy: 0.990100\n",
      "Step: 9500, Loss: 337.894287, Accuracy: 0.989000\n",
      "Step: 10000, Loss: 301.309662, Accuracy: 0.990700\n",
      "Step: 10500, Loss: 293.987274, Accuracy: 0.990700\n",
      "Step: 11000, Loss: 282.726105, Accuracy: 0.990700\n",
      "Step: 11500, Loss: 302.444794, Accuracy: 0.989900\n",
      "Step: 12000, Loss: 319.522705, Accuracy: 0.990000\n",
      "Step: 12500, Loss: 297.549194, Accuracy: 0.990200\n",
      "Step: 13000, Loss: 287.757751, Accuracy: 0.991100\n",
      "Step: 13500, Loss: 279.108704, Accuracy: 0.991000\n",
      "Step: 14000, Loss: 292.329285, Accuracy: 0.990500\n",
      "Step: 14500, Loss: 278.223999, Accuracy: 0.990900\n",
      "Step: 15000, Loss: 275.906067, Accuracy: 0.991000\n",
      "Step: 15500, Loss: 279.583923, Accuracy: 0.990500\n",
      "Step: 16000, Loss: 260.211029, Accuracy: 0.991500\n",
      "Step: 16500, Loss: 267.535858, Accuracy: 0.990900\n",
      "Step: 17000, Loss: 269.044403, Accuracy: 0.990300\n",
      "Step: 17500, Loss: 275.393677, Accuracy: 0.991300\n",
      "Step: 18000, Loss: 261.628510, Accuracy: 0.992000\n",
      "Step: 18500, Loss: 275.364319, Accuracy: 0.990400\n",
      "Step: 19000, Loss: 289.988098, Accuracy: 0.990300\n",
      "Step: 19500, Loss: 271.985596, Accuracy: 0.991600\n",
      "Step: 20000, Loss: 273.901855, Accuracy: 0.991400\n"
     ]
    }
   ],
   "source": [
    "i = 0\n",
    "for _ in range(20000):\n",
    "    i += 1\n",
    "    batch_xs, batch_ts = mnist.train.next_batch(50)\n",
    "    sess.run(train_step,\n",
    "             feed_dict={x:batch_xs, t:batch_ts, keep_prob:0.5})\n",
    "    if i % 500 == 0:\n",
    "        loss_vals, acc_vals = [], []\n",
    "        for c in range(4):\n",
    "            start = len(mnist.test.labels) // 4 * c\n",
    "            end = len(mnist.test.labels) // 4 * (c+1)\n",
    "            loss_val, acc_val = sess.run([loss, accuracy],\n",
    "                feed_dict={x:mnist.test.images[start:end],\n",
    "                           t:mnist.test.labels[start:end],\n",
    "                           keep_prob:1.0})\n",
    "            loss_vals.append(loss_val)\n",
    "            acc_vals.append(acc_val)\n",
    "        loss_val = np.sum(loss_vals)\n",
    "        acc_val = np.mean(acc_vals)\n",
    "        print ('Step: %d, Loss: %f, Accuracy: %f'\n",
    "               % (i, loss_val, acc_val))\n",
    "        saver.save(sess, 'cnn_session', global_step=i)"
   ]
  },
  {
   "cell_type": "markdown",
   "metadata": {
    "deletable": true,
    "editable": true
   },
   "source": [
    "**[CNN-09]** セッション情報を保存したファイルが生成されていることを確認します。"
   ]
  },
  {
   "cell_type": "code",
   "execution_count": 9,
   "metadata": {
    "collapsed": false,
    "deletable": true,
    "editable": true
   },
   "outputs": [
    {
     "name": "stdout",
     "output_type": "stream",
     "text": [
      "cnn_session-1000.data-00000-of-00001   cnn_session-19000.data-00000-of-00001\r\n",
      "cnn_session-1000.index\t\t       cnn_session-19000.index\r\n",
      "cnn_session-1000.meta\t\t       cnn_session-19000.meta\r\n",
      "cnn_session-10000.data-00000-of-00001  cnn_session-19500.data-00000-of-00001\r\n",
      "cnn_session-10000.index\t\t       cnn_session-19500.index\r\n",
      "cnn_session-10000.meta\t\t       cnn_session-19500.meta\r\n",
      "cnn_session-10500.data-00000-of-00001  cnn_session-2000.data-00000-of-00001\r\n",
      "cnn_session-10500.index\t\t       cnn_session-2000.index\r\n",
      "cnn_session-10500.meta\t\t       cnn_session-2000.meta\r\n",
      "cnn_session-11000.data-00000-of-00001  cnn_session-20000.data-00000-of-00001\r\n",
      "cnn_session-11000.index\t\t       cnn_session-20000.index\r\n",
      "cnn_session-11000.meta\t\t       cnn_session-20000.meta\r\n",
      "cnn_session-11500.data-00000-of-00001  cnn_session-2500.data-00000-of-00001\r\n",
      "cnn_session-11500.index\t\t       cnn_session-2500.index\r\n",
      "cnn_session-11500.meta\t\t       cnn_session-2500.meta\r\n",
      "cnn_session-12000.data-00000-of-00001  cnn_session-3000.data-00000-of-00001\r\n",
      "cnn_session-12000.index\t\t       cnn_session-3000.index\r\n",
      "cnn_session-12000.meta\t\t       cnn_session-3000.meta\r\n",
      "cnn_session-12500.data-00000-of-00001  cnn_session-3500.data-00000-of-00001\r\n",
      "cnn_session-12500.index\t\t       cnn_session-3500.index\r\n",
      "cnn_session-12500.meta\t\t       cnn_session-3500.meta\r\n",
      "cnn_session-13000.data-00000-of-00001  cnn_session-4000.data-00000-of-00001\r\n",
      "cnn_session-13000.index\t\t       cnn_session-4000.index\r\n",
      "cnn_session-13000.meta\t\t       cnn_session-4000.meta\r\n",
      "cnn_session-13500.data-00000-of-00001  cnn_session-4500.data-00000-of-00001\r\n",
      "cnn_session-13500.index\t\t       cnn_session-4500.index\r\n",
      "cnn_session-13500.meta\t\t       cnn_session-4500.meta\r\n",
      "cnn_session-14000.data-00000-of-00001  cnn_session-500.data-00000-of-00001\r\n",
      "cnn_session-14000.index\t\t       cnn_session-500.index\r\n",
      "cnn_session-14000.meta\t\t       cnn_session-500.meta\r\n",
      "cnn_session-14500.data-00000-of-00001  cnn_session-5000.data-00000-of-00001\r\n",
      "cnn_session-14500.index\t\t       cnn_session-5000.index\r\n",
      "cnn_session-14500.meta\t\t       cnn_session-5000.meta\r\n",
      "cnn_session-1500.data-00000-of-00001   cnn_session-5500.data-00000-of-00001\r\n",
      "cnn_session-1500.index\t\t       cnn_session-5500.index\r\n",
      "cnn_session-1500.meta\t\t       cnn_session-5500.meta\r\n",
      "cnn_session-15000.data-00000-of-00001  cnn_session-6000.data-00000-of-00001\r\n",
      "cnn_session-15000.index\t\t       cnn_session-6000.index\r\n",
      "cnn_session-15000.meta\t\t       cnn_session-6000.meta\r\n",
      "cnn_session-15500.data-00000-of-00001  cnn_session-6500.data-00000-of-00001\r\n",
      "cnn_session-15500.index\t\t       cnn_session-6500.index\r\n",
      "cnn_session-15500.meta\t\t       cnn_session-6500.meta\r\n",
      "cnn_session-16000.data-00000-of-00001  cnn_session-7000.data-00000-of-00001\r\n",
      "cnn_session-16000.index\t\t       cnn_session-7000.index\r\n",
      "cnn_session-16000.meta\t\t       cnn_session-7000.meta\r\n",
      "cnn_session-16500.data-00000-of-00001  cnn_session-7500.data-00000-of-00001\r\n",
      "cnn_session-16500.index\t\t       cnn_session-7500.index\r\n",
      "cnn_session-16500.meta\t\t       cnn_session-7500.meta\r\n",
      "cnn_session-17000.data-00000-of-00001  cnn_session-8000.data-00000-of-00001\r\n",
      "cnn_session-17000.index\t\t       cnn_session-8000.index\r\n",
      "cnn_session-17000.meta\t\t       cnn_session-8000.meta\r\n",
      "cnn_session-17500.data-00000-of-00001  cnn_session-8500.data-00000-of-00001\r\n",
      "cnn_session-17500.index\t\t       cnn_session-8500.index\r\n",
      "cnn_session-17500.meta\t\t       cnn_session-8500.meta\r\n",
      "cnn_session-18000.data-00000-of-00001  cnn_session-9000.data-00000-of-00001\r\n",
      "cnn_session-18000.index\t\t       cnn_session-9000.index\r\n",
      "cnn_session-18000.meta\t\t       cnn_session-9000.meta\r\n",
      "cnn_session-18500.data-00000-of-00001  cnn_session-9500.data-00000-of-00001\r\n",
      "cnn_session-18500.index\t\t       cnn_session-9500.index\r\n",
      "cnn_session-18500.meta\t\t       cnn_session-9500.meta\r\n"
     ]
    }
   ],
   "source": [
    "!ls cnn_session*"
   ]
  }
 ],
 "metadata": {
  "kernelspec": {
   "display_name": "Python 3",
   "language": "python",
   "name": "python3"
  },
  "language_info": {
   "codemirror_mode": {
    "name": "ipython",
    "version": 3
   },
   "file_extension": ".py",
   "mimetype": "text/x-python",
   "name": "python",
   "nbconvert_exporter": "python",
   "pygments_lexer": "ipython3",
   "version": "3.5.2"
  }
 },
 "nbformat": 4,
 "nbformat_minor": 0
}
