{
 "cells": [
  {
   "cell_type": "markdown",
   "metadata": {
    "deletable": true,
    "editable": true
   },
   "source": [
    "**[LSE-01]** モジュールをインポート"
   ]
  },
  {
   "cell_type": "code",
   "execution_count": 1,
   "metadata": {
    "collapsed": false,
    "deletable": true,
    "editable": true
   },
   "outputs": [],
   "source": [
    "import tensorflow as tf\n",
    "import numpy as np\n",
    "import matplotlib.pyplot as plt\n",
    "\n",
    "# jupyter notebook上にグラフを表示するために必要\n",
    "%matplotlib inline"
   ]
  },
  {
   "cell_type": "markdown",
   "metadata": {
    "deletable": true,
    "editable": true
   },
   "source": [
    "**[LSE-02]** Placeholder x の定義\n",
    "* トレーニングセットのデータを保存する変数をTensorflowでは「Placeholder」と呼ぶ\n",
    "* [データ数, パラメータ数]であり、データ数にNoneを指定することでTensorflowは任意のデータ数を受け入れることができる。"
   ]
  },
  {
   "cell_type": "code",
   "execution_count": 2,
   "metadata": {
    "collapsed": true,
    "deletable": true,
    "editable": true
   },
   "outputs": [],
   "source": [
    "x = tf.placeholder(tf.float32, [None, 5])"
   ]
  },
  {
   "cell_type": "markdown",
   "metadata": {
    "deletable": true,
    "editable": true
   },
   "source": [
    "**[LSE-03]** Variable w を定義\n",
    "* 最適化を実施するパラメータ(重み、パラメータ、...etc)をTensorflowでは「Variable」と呼ぶ"
   ]
  },
  {
   "cell_type": "code",
   "execution_count": 3,
   "metadata": {
    "collapsed": true,
    "deletable": true,
    "editable": true
   },
   "outputs": [],
   "source": [
    "w = tf.Variable(tf.zeros([5, 1]))"
   ]
  },
  {
   "cell_type": "markdown",
   "metadata": {
    "deletable": true,
    "editable": true
   },
   "source": [
    "**[LSE-04]** 計算式 y を定義\n",
    "* matmul = matrix multiplication(行列積)、numpyのdot()と同じ処理"
   ]
  },
  {
   "cell_type": "code",
   "execution_count": 4,
   "metadata": {
    "collapsed": true,
    "deletable": true,
    "editable": true
   },
   "outputs": [],
   "source": [
    "y = tf.matmul(x, w)"
   ]
  },
  {
   "cell_type": "markdown",
   "metadata": {
    "deletable": true,
    "editable": true
   },
   "source": [
    "**[LSE-05]** Placeholder t を定義\n",
    "* 教師データ: ここでは毎月の平均気温\n",
    "* 同様にして任意のデータ数を受け入れられる様にする。"
   ]
  },
  {
   "cell_type": "code",
   "execution_count": 5,
   "metadata": {
    "collapsed": true,
    "deletable": true,
    "editable": true
   },
   "outputs": [],
   "source": [
    "t = tf.placeholder(tf.float32, [None, 1])"
   ]
  },
  {
   "cell_type": "markdown",
   "metadata": {
    "deletable": true,
    "editable": true
   },
   "source": [
    "**[LSE-06]** 誤差関数 loss を定義\n",
    "* 誤差関数を最小二乗法とする。\n",
    "* reduce_sum: 全ての要素で和を算出する。\n",
    "* square: 要素毎の二乗を算出する。$(y_n - t_n)^2$"
   ]
  },
  {
   "cell_type": "code",
   "execution_count": 6,
   "metadata": {
    "collapsed": false,
    "deletable": true,
    "editable": true
   },
   "outputs": [],
   "source": [
    "loss = tf.reduce_sum(tf.square(y-t))"
   ]
  },
  {
   "cell_type": "markdown",
   "metadata": {
    "deletable": true,
    "editable": true
   },
   "source": [
    "**[LSE-07]** トレーニングアルゴリズム train_step を定義\n",
    "* 最適化アルゴリズムとしてAdamを使用する。\n",
    "\n",
    "| #|Optimizer name              |Description                                     |引数                  |\n",
    "|-:|:----------------------------------|:--------------------------------------------------|:-----------------------|\n",
    "| 1|GradientDescentOptimizer|勾配降下法によるオプティマイザ                |学習率               |\n",
    "| 2|AdagradOptimizer           |AdaGrad法によるオプティマイザ               |学習率               |\n",
    "| 3|MomentumOptimizer        |モメンタム法によるオプティマイザ              |学習率、モーメンタム|\n",
    "| 4|AdamOptimizer              |Adam法                                         |                        |\n",
    "| 5|FtrlOptimizer                 |Follow the Regularized Leaderアルゴリズム|学習率                |\n",
    "| 6|RMSPropOptimizer           |学習率の調整を自動化したアルゴリズム       |学習率                |"
   ]
  },
  {
   "cell_type": "code",
   "execution_count": 7,
   "metadata": {
    "collapsed": true,
    "deletable": true,
    "editable": true
   },
   "outputs": [],
   "source": [
    "train_step = tf.train.AdamOptimizer().minimize(loss)"
   ]
  },
  {
   "cell_type": "markdown",
   "metadata": {
    "deletable": true,
    "editable": true
   },
   "source": [
    "**[LSE-08]** セッションを用意して、Variableを初期化"
   ]
  },
  {
   "cell_type": "code",
   "execution_count": 8,
   "metadata": {
    "collapsed": false,
    "deletable": true,
    "editable": true
   },
   "outputs": [],
   "source": [
    "sess = tf.Session()\n",
    "sess.run(tf.global_variables_initializer())"
   ]
  },
  {
   "cell_type": "markdown",
   "metadata": {
    "deletable": true,
    "editable": true
   },
   "source": [
    "**[LSE-09]** トレーニングセットのデータを用意する。\n",
    "* テストデータを$1 \\times 12$行列から$12 \\times 1$行列へリシェイプする。\n",
    "* パラメータの初期値を設定する。\n",
    "\n",
    "``` python\n",
    "# enumerate(): ループする際にインデックスつきで要素を得る\n",
    "list = ['a', 'b', 'c']\n",
    "for (i, x) in enumerate(list):\n",
    "    print i,x\n",
    "\n",
    "# 実行結果\n",
    "# 0 a\n",
    "# 1 b\n",
    "# 2 c\n",
    "```"
   ]
  },
  {
   "cell_type": "code",
   "execution_count": 9,
   "metadata": {
    "collapsed": false,
    "deletable": true,
    "editable": true
   },
   "outputs": [],
   "source": [
    "train_t = np.array([5.2, 5.7, 8.6, 14.9, 18.2, 20.4,\n",
    "                    25.5, 26.4, 22.8, 17.5, 11.1, 6.6])\n",
    "train_t = train_t.reshape([12,1])\n",
    "\n",
    "train_x = np.zeros([12, 5])\n",
    "for row, month in enumerate(range(1, 13)):\n",
    "    for col, n in enumerate(range(0, 5)):\n",
    "        train_x[row][col] = month**n"
   ]
  },
  {
   "cell_type": "markdown",
   "metadata": {
    "deletable": true,
    "editable": true
   },
   "source": [
    "**[LSE-10]** 勾配降下法によるパラメーターの最適化を100000回繰り返す。\n",
    "* Session.run()で実行\n",
    "* Sessionの実行時にfeed_dictを利用してplaceholderを受け渡す。"
   ]
  },
  {
   "cell_type": "code",
   "execution_count": 10,
   "metadata": {
    "collapsed": false,
    "deletable": true,
    "editable": true
   },
   "outputs": [
    {
     "name": "stdout",
     "output_type": "stream",
     "text": [
      "Step: 10000, Loss: 31.033054\n",
      "Step: 20000, Loss: 29.295877\n",
      "Step: 30000, Loss: 28.028336\n",
      "Step: 40000, Loss: 26.861082\n",
      "Step: 50000, Loss: 26.942287\n",
      "Step: 60000, Loss: 24.808706\n",
      "Step: 70000, Loss: 23.841579\n",
      "Step: 80000, Loss: 22.980116\n",
      "Step: 90000, Loss: 22.432549\n",
      "Step: 100000, Loss: 21.466858\n"
     ]
    }
   ],
   "source": [
    "i = 0\n",
    "for _ in range(100000):\n",
    "    i += 1\n",
    "    sess.run(train_step, feed_dict={x:train_x, t:train_t})\n",
    "    if i % 10000 == 0:\n",
    "        loss_val = sess.run(loss, feed_dict={x:train_x, t:train_t})\n",
    "        print ('Step: %d, Loss: %f' % (i, loss_val))"
   ]
  },
  {
   "cell_type": "markdown",
   "metadata": {
    "deletable": true,
    "editable": true
   },
   "source": [
    "**[LSE-11]** さらに100000回繰り返す。"
   ]
  },
  {
   "cell_type": "code",
   "execution_count": 11,
   "metadata": {
    "collapsed": false,
    "deletable": true,
    "editable": true
   },
   "outputs": [
    {
     "name": "stdout",
     "output_type": "stream",
     "text": [
      "Step: 110000, Loss: 20.771400\n",
      "Step: 120000, Loss: 21.023464\n",
      "Step: 130000, Loss: 19.535839\n",
      "Step: 140000, Loss: 19.044182\n",
      "Step: 150000, Loss: 18.485485\n",
      "Step: 160000, Loss: 18.019890\n",
      "Step: 170000, Loss: 17.587936\n",
      "Step: 180000, Loss: 17.185965\n",
      "Step: 190000, Loss: 16.814537\n",
      "Step: 200000, Loss: 16.498344\n"
     ]
    }
   ],
   "source": [
    "for _ in range(100000):\n",
    "    i += 1\n",
    "    sess.run(train_step, feed_dict={x:train_x, t:train_t})\n",
    "    if i % 10000 == 0:\n",
    "        loss_val = sess.run(loss, feed_dict={x:train_x, t:train_t})\n",
    "        print ('Step: %d, Loss: %f' % (i, loss_val))"
   ]
  },
  {
   "cell_type": "markdown",
   "metadata": {
    "deletable": true,
    "editable": true
   },
   "source": [
    "**[LSE-12]** トレーニング後のパラメーターの値を確認"
   ]
  },
  {
   "cell_type": "code",
   "execution_count": 12,
   "metadata": {
    "collapsed": false,
    "deletable": true,
    "editable": true
   },
   "outputs": [
    {
     "name": "stdout",
     "output_type": "stream",
     "text": [
      "[[ 6.10159922]\n",
      " [-4.03723049]\n",
      " [ 2.50909233]\n",
      " [-0.2815375 ]\n",
      " [ 0.00833718]]\n"
     ]
    }
   ],
   "source": [
    "w_val = sess.run(w)\n",
    "print (w_val)"
   ]
  },
  {
   "cell_type": "markdown",
   "metadata": {
    "deletable": true,
    "editable": true
   },
   "source": [
    "**[LSE-13]** トレーニング後のパラメーターを用いて、予測気温を計算する関数を定義する。"
   ]
  },
  {
   "cell_type": "code",
   "execution_count": 13,
   "metadata": {
    "collapsed": false,
    "deletable": true,
    "editable": true
   },
   "outputs": [],
   "source": [
    "def predict(x):\n",
    "    result = 0.0\n",
    "    for n in range(0, 5):\n",
    "        result += w_val[n][0] * x**n\n",
    "    return result"
   ]
  },
  {
   "cell_type": "markdown",
   "metadata": {
    "deletable": true,
    "editable": true
   },
   "source": [
    "**[LSE-14]** 予測気温のグラフを描画する。"
   ]
  },
  {
   "cell_type": "code",
   "execution_count": 14,
   "metadata": {
    "collapsed": false,
    "deletable": true,
    "editable": true
   },
   "outputs": [
    {
     "data": {
      "text/plain": [
       "[<matplotlib.lines.Line2D at 0x7f67c797e160>]"
      ]
     },
     "execution_count": 14,
     "metadata": {},
     "output_type": "execute_result"
    },
    {
     "data": {
      "image/png": "[encoded data removed]",
      "text/plain": [
       "<matplotlib.figure.Figure at 0x7f67a42a6f98>"
      ]
     },
     "metadata": {},
     "output_type": "display_data"
    }
   ],
   "source": [
    "fig = plt.figure()\n",
    "subplot = fig.add_subplot(1,1,1)\n",
    "subplot.set_xlim(1,12)\n",
    "subplot.scatter(range(1,13), train_t)\n",
    "linex = np.linspace(1,12,100)\n",
    "liney = predict(linex)\n",
    "subplot.plot(linex, liney)"
   ]
  }
 ],
 "metadata": {
  "kernelspec": {
   "display_name": "Python 3",
   "language": "python",
   "name": "python3"
  },
  "language_info": {
   "codemirror_mode": {
    "name": "ipython",
    "version": 3
   },
   "file_extension": ".py",
   "mimetype": "text/x-python",
   "name": "python",
   "nbconvert_exporter": "python",
   "pygments_lexer": "ipython3",
   "version": "3.5.2"
  }
 },
 "nbformat": 4,
 "nbformat_minor": 0
}
