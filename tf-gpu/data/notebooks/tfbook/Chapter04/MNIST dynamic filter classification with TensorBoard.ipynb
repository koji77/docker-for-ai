{
 "cells": [
  {
   "cell_type": "markdown",
   "metadata": {
    "deletable": true,
    "editable": true
   },
   "source": [
    "**[MDT-01]** 必要なモジュールをインポートして、乱数のシードを設定します。"
   ]
  },
  {
   "cell_type": "code",
   "execution_count": 1,
   "metadata": {
    "collapsed": true,
    "deletable": true,
    "editable": true
   },
   "outputs": [],
   "source": [
    "import tensorflow as tf\n",
    "import numpy as np\n",
    "import matplotlib.pyplot as plt\n",
    "from tensorflow.examples.tutorials.mnist import input_data\n",
    "\n",
    "# jupyter notebook上にグラフを表示するために必要\n",
    "%matplotlib inline\n",
    "\n",
    "np.random.seed(20160703)\n",
    "tf.set_random_seed(20160703)"
   ]
  },
  {
   "cell_type": "markdown",
   "metadata": {
    "deletable": true,
    "editable": true
   },
   "source": [
    "**[MDT-02]** MNISTのデータセットを用意します。"
   ]
  },
  {
   "cell_type": "code",
   "execution_count": 2,
   "metadata": {
    "collapsed": false,
    "deletable": true,
    "editable": true
   },
   "outputs": [
    {
     "name": "stdout",
     "output_type": "stream",
     "text": [
      "Extracting /tmp/data/train-images-idx3-ubyte.gz\n",
      "Extracting /tmp/data/train-labels-idx1-ubyte.gz\n",
      "Extracting /tmp/data/t10k-images-idx3-ubyte.gz\n",
      "Extracting /tmp/data/t10k-labels-idx1-ubyte.gz\n"
     ]
    }
   ],
   "source": [
    "mnist = input_data.read_data_sets(\"/tmp/data/\", one_hot=True)"
   ]
  },
  {
   "cell_type": "markdown",
   "metadata": {
    "deletable": true,
    "editable": true
   },
   "source": [
    "**[MDT-03]** 畳込みフィルターが1層のCNNを表現するクラスを定義します。"
   ]
  },
  {
   "cell_type": "code",
   "execution_count": 3,
   "metadata": {
    "collapsed": false,
    "deletable": true,
    "editable": true
   },
   "outputs": [],
   "source": [
    "class SingleCNN:\n",
    "    def __init__(self, num_filters, num_units):\n",
    "        with tf.Graph().as_default():\n",
    "            self.prepare_model(num_filters, num_units)\n",
    "            self.prepare_session()\n",
    "\n",
    "    def prepare_model(self, num_filters, num_units):\n",
    "        num_units1 = 14*14*num_filters\n",
    "        num_units2 = num_units\n",
    "        \n",
    "        with tf.name_scope('input'):\n",
    "            x = tf.placeholder(tf.float32, [None, 784], name='input')\n",
    "            x_image = tf.reshape(x, [-1,28,28,1])\n",
    "\n",
    "        with tf.name_scope('convolution'):\n",
    "            W_conv = tf.Variable(\n",
    "                tf.truncated_normal([5,5,1,num_filters], stddev=0.1),\n",
    "                name='conv-filter')\n",
    "            h_conv = tf.nn.conv2d(\n",
    "                x_image, W_conv, strides=[1,1,1,1], padding='SAME',\n",
    "                name='filter-output')\n",
    "\n",
    "        with tf.name_scope('pooling'):            \n",
    "            h_pool =tf.nn.max_pool(h_conv, ksize=[1,2,2,1],\n",
    "                                   strides=[1,2,2,1], padding='SAME',\n",
    "                                   name='max-pool')\n",
    "            h_pool_flat = tf.reshape(h_pool, [-1, 14*14*num_filters],\n",
    "                                     name='pool-output')\n",
    "\n",
    "        with tf.name_scope('fully-connected'):\n",
    "            w2 = tf.Variable(tf.truncated_normal([num_units1, num_units2]))\n",
    "            b2 = tf.Variable(tf.zeros([num_units2]))\n",
    "            hidden2 = tf.nn.relu(tf.matmul(h_pool_flat, w2) + b2,\n",
    "                                 name='fc-output')\n",
    "\n",
    "        with tf.name_scope('softmax'):\n",
    "            w0 = tf.Variable(tf.zeros([num_units2, 10]))\n",
    "            b0 = tf.Variable(tf.zeros([10]))\n",
    "            p = tf.nn.softmax(tf.matmul(hidden2, w0) + b0,\n",
    "                              name='softmax-output')\n",
    "            \n",
    "        with tf.name_scope('optimizer'):\n",
    "            t = tf.placeholder(tf.float32, [None, 10], name='labels')\n",
    "            loss = -tf.reduce_sum(t * tf.log(p), name='loss')\n",
    "            train_step = tf.train.AdamOptimizer(0.0005).minimize(loss)\n",
    "            \n",
    "        with tf.name_scope('evaluator'):\n",
    "            correct_prediction = tf.equal(tf.argmax(p, 1), tf.argmax(t, 1))\n",
    "            accuracy = tf.reduce_mean(tf.cast(correct_prediction,\n",
    "                                              tf.float32), name='accuracy')\n",
    "            \n",
    "        tf.summary.scalar(\"loss\", loss)\n",
    "        tf.summary.scalar(\"accuracy\", accuracy)\n",
    "        tf.summary.histogram(\"convolution_filters\", W_conv)\n",
    "        \n",
    "        self.x, self.t, self.p = x, t, p\n",
    "        self.train_step = train_step\n",
    "        self.loss = loss\n",
    "        self.accuracy = accuracy\n",
    "        \n",
    "    def prepare_session(self):\n",
    "        sess = tf.InteractiveSession()\n",
    "        sess.run(tf.global_variables_initializer())\n",
    "        summary = tf.summary.merge_all()\n",
    "        writer = tf.summary.FileWriter(\"/tmp/mnist_df_logs\", sess.graph)\n",
    "        \n",
    "        self.sess = sess\n",
    "        self.summary = summary\n",
    "        self.writer = writer"
   ]
  },
  {
   "cell_type": "markdown",
   "metadata": {
    "deletable": true,
    "editable": true
   },
   "source": [
    "**[MDT-04]** TensorBoard用のデータ出力ディレクトリーを削除して初期化しておきます。"
   ]
  },
  {
   "cell_type": "code",
   "execution_count": 4,
   "metadata": {
    "collapsed": true,
    "deletable": true,
    "editable": true
   },
   "outputs": [],
   "source": [
    "!rm -rf /tmp/mnist_df_logs"
   ]
  },
  {
   "cell_type": "markdown",
   "metadata": {
    "deletable": true,
    "editable": true
   },
   "source": [
    "**[MDT-05]** パラメーターの最適化を4000回繰り返します。テストセットに対して約98%の正解率が得られます。"
   ]
  },
  {
   "cell_type": "code",
   "execution_count": 5,
   "metadata": {
    "collapsed": false,
    "deletable": true,
    "editable": true
   },
   "outputs": [
    {
     "name": "stdout",
     "output_type": "stream",
     "text": [
      "Step: 50, Loss: 3849.054932, Accuracy: 0.882000\n",
      "Step: 100, Loss: 2515.357178, Accuracy: 0.924900\n",
      "Step: 150, Loss: 2154.197754, Accuracy: 0.932900\n",
      "Step: 200, Loss: 1852.126831, Accuracy: 0.947200\n",
      "Step: 250, Loss: 1635.995239, Accuracy: 0.951200\n",
      "Step: 300, Loss: 1436.014404, Accuracy: 0.956300\n",
      "Step: 350, Loss: 1546.048828, Accuracy: 0.954600\n",
      "Step: 400, Loss: 1354.303833, Accuracy: 0.960100\n",
      "Step: 450, Loss: 1181.663574, Accuracy: 0.966200\n",
      "Step: 500, Loss: 1282.406128, Accuracy: 0.959800\n",
      "Step: 550, Loss: 1219.999634, Accuracy: 0.962700\n",
      "Step: 600, Loss: 1040.950073, Accuracy: 0.968100\n",
      "Step: 650, Loss: 914.630493, Accuracy: 0.972100\n",
      "Step: 700, Loss: 941.613586, Accuracy: 0.973300\n",
      "Step: 750, Loss: 880.278076, Accuracy: 0.973200\n",
      "Step: 800, Loss: 960.747253, Accuracy: 0.969700\n",
      "Step: 850, Loss: 872.284058, Accuracy: 0.973900\n",
      "Step: 900, Loss: 811.574524, Accuracy: 0.976000\n",
      "Step: 950, Loss: 821.130188, Accuracy: 0.975600\n",
      "Step: 1000, Loss: 924.103210, Accuracy: 0.970700\n",
      "Step: 1050, Loss: 957.789429, Accuracy: 0.969200\n",
      "Step: 1100, Loss: 917.483643, Accuracy: 0.972700\n",
      "Step: 1150, Loss: 741.756775, Accuracy: 0.977600\n",
      "Step: 1200, Loss: 670.512512, Accuracy: 0.980400\n",
      "Step: 1250, Loss: 780.364136, Accuracy: 0.976500\n",
      "Step: 1300, Loss: 738.534180, Accuracy: 0.977700\n",
      "Step: 1350, Loss: 749.049377, Accuracy: 0.975700\n",
      "Step: 1400, Loss: 784.491211, Accuracy: 0.976200\n",
      "Step: 1450, Loss: 696.834045, Accuracy: 0.979400\n",
      "Step: 1500, Loss: 775.812500, Accuracy: 0.975900\n",
      "Step: 1550, Loss: 806.764404, Accuracy: 0.976600\n",
      "Step: 1600, Loss: 759.820679, Accuracy: 0.975800\n",
      "Step: 1650, Loss: 805.902771, Accuracy: 0.977400\n",
      "Step: 1700, Loss: 686.230347, Accuracy: 0.980000\n",
      "Step: 1750, Loss: 664.950562, Accuracy: 0.980500\n",
      "Step: 1800, Loss: 647.337280, Accuracy: 0.980900\n",
      "Step: 1850, Loss: 1059.488159, Accuracy: 0.969600\n",
      "Step: 1900, Loss: 718.264343, Accuracy: 0.978000\n",
      "Step: 1950, Loss: 747.051147, Accuracy: 0.977800\n",
      "Step: 2000, Loss: 796.592468, Accuracy: 0.976600\n",
      "Step: 2050, Loss: 616.496521, Accuracy: 0.981200\n",
      "Step: 2100, Loss: 628.528625, Accuracy: 0.980500\n",
      "Step: 2150, Loss: 749.406494, Accuracy: 0.977500\n",
      "Step: 2200, Loss: 667.726990, Accuracy: 0.979200\n",
      "Step: 2250, Loss: 615.875549, Accuracy: 0.981400\n",
      "Step: 2300, Loss: 669.800781, Accuracy: 0.979200\n",
      "Step: 2350, Loss: 624.235962, Accuracy: 0.981500\n",
      "Step: 2400, Loss: 625.241089, Accuracy: 0.981600\n",
      "Step: 2450, Loss: 647.362671, Accuracy: 0.982300\n",
      "Step: 2500, Loss: 612.352417, Accuracy: 0.982300\n",
      "Step: 2550, Loss: 672.928589, Accuracy: 0.980800\n",
      "Step: 2600, Loss: 658.222534, Accuracy: 0.980800\n",
      "Step: 2650, Loss: 635.206604, Accuracy: 0.983000\n",
      "Step: 2700, Loss: 704.215027, Accuracy: 0.980000\n",
      "Step: 2750, Loss: 623.343384, Accuracy: 0.981100\n",
      "Step: 2800, Loss: 605.821472, Accuracy: 0.982500\n",
      "Step: 2850, Loss: 697.369141, Accuracy: 0.979900\n",
      "Step: 2900, Loss: 654.454041, Accuracy: 0.982000\n",
      "Step: 2950, Loss: 688.960510, Accuracy: 0.980400\n",
      "Step: 3000, Loss: 657.743347, Accuracy: 0.980700\n",
      "Step: 3050, Loss: 681.594849, Accuracy: 0.980900\n",
      "Step: 3100, Loss: 641.983582, Accuracy: 0.981500\n",
      "Step: 3150, Loss: 666.664490, Accuracy: 0.982000\n",
      "Step: 3200, Loss: 713.863525, Accuracy: 0.981400\n",
      "Step: 3250, Loss: 758.835999, Accuracy: 0.977500\n",
      "Step: 3300, Loss: 762.898376, Accuracy: 0.979300\n",
      "Step: 3350, Loss: 671.031738, Accuracy: 0.980800\n",
      "Step: 3400, Loss: 681.442566, Accuracy: 0.980900\n",
      "Step: 3450, Loss: 661.190491, Accuracy: 0.981300\n",
      "Step: 3500, Loss: 680.229797, Accuracy: 0.980200\n",
      "Step: 3550, Loss: 621.610596, Accuracy: 0.983000\n",
      "Step: 3600, Loss: 692.356750, Accuracy: 0.980300\n",
      "Step: 3650, Loss: 731.890198, Accuracy: 0.980800\n",
      "Step: 3700, Loss: 628.273071, Accuracy: 0.983700\n",
      "Step: 3750, Loss: 794.915039, Accuracy: 0.978700\n",
      "Step: 3800, Loss: 696.948181, Accuracy: 0.982200\n",
      "Step: 3850, Loss: 749.440063, Accuracy: 0.980800\n",
      "Step: 3900, Loss: 664.688477, Accuracy: 0.982900\n",
      "Step: 3950, Loss: 724.243469, Accuracy: 0.980700\n",
      "Step: 4000, Loss: 653.355835, Accuracy: 0.982000\n"
     ]
    }
   ],
   "source": [
    "cnn = SingleCNN(16, 1024)\n",
    "\n",
    "i = 0\n",
    "for _ in range(4000):\n",
    "    i += 1\n",
    "    batch_xs, batch_ts = mnist.train.next_batch(100)\n",
    "    cnn.sess.run(cnn.train_step, feed_dict={cnn.x:batch_xs, cnn.t:batch_ts})\n",
    "    if i % 50 == 0:\n",
    "        summary, loss_val, acc_val = cnn.sess.run(\n",
    "            [cnn.summary, cnn.loss, cnn.accuracy],\n",
    "            feed_dict={cnn.x:mnist.test.images, cnn.t:mnist.test.labels})\n",
    "        print ('Step: %d, Loss: %f, Accuracy: %f'\n",
    "               % (i, loss_val, acc_val))\n",
    "        cnn.writer.add_summary(summary, i)"
   ]
  }
 ],
 "metadata": {
  "kernelspec": {
   "display_name": "Python 3",
   "language": "python",
   "name": "python3"
  },
  "language_info": {
   "codemirror_mode": {
    "name": "ipython",
    "version": 3
   },
   "file_extension": ".py",
   "mimetype": "text/x-python",
   "name": "python",
   "nbconvert_exporter": "python",
   "pygments_lexer": "ipython3",
   "version": "3.5.2"
  }
 },
 "nbformat": 4,
 "nbformat_minor": 0
}
