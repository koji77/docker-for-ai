{
 "cells": [
  {
   "cell_type": "markdown",
   "metadata": {
    "deletable": true,
    "editable": true
   },
   "source": [
    "**[MDC-01]** 必要なモジュールをインポートして、乱数のシードを設定します。"
   ]
  },
  {
   "cell_type": "code",
   "execution_count": 1,
   "metadata": {
    "collapsed": true,
    "deletable": true,
    "editable": true
   },
   "outputs": [],
   "source": [
    "import tensorflow as tf\n",
    "import numpy as np\n",
    "import matplotlib.pyplot as plt\n",
    "from tensorflow.examples.tutorials.mnist import input_data\n",
    "\n",
    "# jupyter notebook上にグラフを表示するために必要\n",
    "%matplotlib inline\n",
    "\n",
    "np.random.seed(20160703)\n",
    "tf.set_random_seed(20160703)"
   ]
  },
  {
   "cell_type": "markdown",
   "metadata": {
    "deletable": true,
    "editable": true
   },
   "source": [
    "**[MDC-02]** MNISTのデータセットを用意します。"
   ]
  },
  {
   "cell_type": "code",
   "execution_count": 2,
   "metadata": {
    "collapsed": false,
    "deletable": true,
    "editable": true
   },
   "outputs": [
    {
     "name": "stdout",
     "output_type": "stream",
     "text": [
      "Extracting /tmp/data/train-images-idx3-ubyte.gz\n",
      "Extracting /tmp/data/train-labels-idx1-ubyte.gz\n",
      "Extracting /tmp/data/t10k-images-idx3-ubyte.gz\n",
      "Extracting /tmp/data/t10k-labels-idx1-ubyte.gz\n"
     ]
    }
   ],
   "source": [
    "mnist = input_data.read_data_sets(\"/tmp/data/\", one_hot=True)"
   ]
  },
  {
   "cell_type": "markdown",
   "metadata": {
    "deletable": true,
    "editable": true
   },
   "source": [
    "**[MDC-03]** フィルターに対応する Variable を用意して、入力データにフィルターとプーリング層を適用する計算式を定義します。"
   ]
  },
  {
   "cell_type": "code",
   "execution_count": 3,
   "metadata": {
    "collapsed": false,
    "deletable": true,
    "editable": true
   },
   "outputs": [],
   "source": [
    "num_filters = 16\n",
    "\n",
    "x = tf.placeholder(tf.float32, [None, 784])\n",
    "x_image = tf.reshape(x, [-1,28,28,1])\n",
    "\n",
    "W_conv = tf.Variable(tf.truncated_normal([5,5,1,num_filters],\n",
    "                                         stddev=0.1))\n",
    "h_conv = tf.nn.conv2d(x_image, W_conv,\n",
    "                      strides=[1,1,1,1], padding='SAME')\n",
    "h_pool =tf.nn.max_pool(h_conv, ksize=[1,2,2,1],\n",
    "                       strides=[1,2,2,1], padding='SAME')"
   ]
  },
  {
   "cell_type": "markdown",
   "metadata": {
    "deletable": true,
    "editable": true
   },
   "source": [
    "**[MDC-04]** プーリング層からの出力を全結合層を経由してソフトマックス関数に入力する計算式を定義します。"
   ]
  },
  {
   "cell_type": "code",
   "execution_count": 4,
   "metadata": {
    "collapsed": false,
    "deletable": true,
    "editable": true
   },
   "outputs": [],
   "source": [
    "h_pool_flat = tf.reshape(h_pool, [-1, 14*14*num_filters])\n",
    "\n",
    "num_units1 = 14*14*num_filters\n",
    "num_units2 = 1024\n",
    "\n",
    "w2 = tf.Variable(tf.truncated_normal([num_units1, num_units2]))\n",
    "b2 = tf.Variable(tf.zeros([num_units2]))\n",
    "hidden2 = tf.nn.relu(tf.matmul(h_pool_flat, w2) + b2)\n",
    "\n",
    "w0 = tf.Variable(tf.zeros([num_units2, 10]))\n",
    "b0 = tf.Variable(tf.zeros([10]))\n",
    "p = tf.nn.softmax(tf.matmul(hidden2, w0) + b0)"
   ]
  },
  {
   "cell_type": "markdown",
   "metadata": {
    "deletable": true,
    "editable": true
   },
   "source": [
    "**[MDC-05]** 誤差関数 loss、トレーニングアルゴリズム train_step、正解率 accuracy を定義します。"
   ]
  },
  {
   "cell_type": "code",
   "execution_count": 5,
   "metadata": {
    "collapsed": false,
    "deletable": true,
    "editable": true
   },
   "outputs": [],
   "source": [
    "t = tf.placeholder(tf.float32, [None, 10])\n",
    "loss = -tf.reduce_sum(t * tf.log(p))\n",
    "train_step = tf.train.AdamOptimizer(0.0005).minimize(loss)\n",
    "correct_prediction = tf.equal(tf.argmax(p, 1), tf.argmax(t, 1))\n",
    "accuracy = tf.reduce_mean(tf.cast(correct_prediction, tf.float32))"
   ]
  },
  {
   "cell_type": "markdown",
   "metadata": {
    "deletable": true,
    "editable": true
   },
   "source": [
    "**[MDC-06]** セッションを用意して、Variable を初期化します。"
   ]
  },
  {
   "cell_type": "code",
   "execution_count": 6,
   "metadata": {
    "collapsed": false,
    "deletable": true,
    "editable": true,
    "scrolled": false
   },
   "outputs": [],
   "source": [
    "sess = tf.InteractiveSession()\n",
    "sess.run(tf.global_variables_initializer())\n",
    "saver = tf.train.Saver()"
   ]
  },
  {
   "cell_type": "markdown",
   "metadata": {
    "deletable": true,
    "editable": true
   },
   "source": [
    "**[MDC-07]** パラメーターの最適化を4000回繰り返します。\n",
    "\n",
    "最終的に、テストセットに対して約98%の正解率が得られます。"
   ]
  },
  {
   "cell_type": "code",
   "execution_count": 7,
   "metadata": {
    "collapsed": false,
    "deletable": true,
    "editable": true
   },
   "outputs": [
    {
     "name": "stdout",
     "output_type": "stream",
     "text": [
      "Step: 100, Loss: 2726.914551, Accuracy: 0.918000\n",
      "Step: 200, Loss: 2015.796143, Accuracy: 0.943600\n",
      "Step: 300, Loss: 1600.798828, Accuracy: 0.953100\n",
      "Step: 400, Loss: 1451.326538, Accuracy: 0.955700\n",
      "Step: 500, Loss: 1365.601440, Accuracy: 0.956100\n",
      "Step: 600, Loss: 1134.579102, Accuracy: 0.965500\n",
      "Step: 700, Loss: 999.058350, Accuracy: 0.969400\n",
      "Step: 800, Loss: 974.078186, Accuracy: 0.969900\n",
      "Step: 900, Loss: 937.892456, Accuracy: 0.969500\n",
      "Step: 1000, Loss: 891.248047, Accuracy: 0.972600\n",
      "Step: 1100, Loss: 915.198120, Accuracy: 0.973000\n",
      "Step: 1200, Loss: 691.872192, Accuracy: 0.977900\n",
      "Step: 1300, Loss: 724.123169, Accuracy: 0.977000\n",
      "Step: 1400, Loss: 758.541626, Accuracy: 0.976900\n",
      "Step: 1500, Loss: 744.506958, Accuracy: 0.978000\n",
      "Step: 1600, Loss: 941.401550, Accuracy: 0.971600\n",
      "Step: 1700, Loss: 673.935791, Accuracy: 0.980900\n",
      "Step: 1800, Loss: 650.405090, Accuracy: 0.979700\n",
      "Step: 1900, Loss: 788.333618, Accuracy: 0.975400\n",
      "Step: 2000, Loss: 722.064026, Accuracy: 0.978200\n",
      "Step: 2100, Loss: 635.356079, Accuracy: 0.980400\n",
      "Step: 2200, Loss: 752.129700, Accuracy: 0.976800\n",
      "Step: 2300, Loss: 701.660767, Accuracy: 0.979200\n",
      "Step: 2400, Loss: 669.919128, Accuracy: 0.980400\n",
      "Step: 2500, Loss: 690.291016, Accuracy: 0.980700\n",
      "Step: 2600, Loss: 786.554688, Accuracy: 0.976700\n",
      "Step: 2700, Loss: 677.038391, Accuracy: 0.980400\n",
      "Step: 2800, Loss: 646.949707, Accuracy: 0.981800\n",
      "Step: 2900, Loss: 663.738708, Accuracy: 0.980800\n",
      "Step: 3000, Loss: 753.344666, Accuracy: 0.977600\n",
      "Step: 3100, Loss: 652.771912, Accuracy: 0.981400\n",
      "Step: 3200, Loss: 685.219299, Accuracy: 0.980900\n",
      "Step: 3300, Loss: 701.021240, Accuracy: 0.981100\n",
      "Step: 3400, Loss: 695.838196, Accuracy: 0.980900\n",
      "Step: 3500, Loss: 695.907776, Accuracy: 0.980900\n",
      "Step: 3600, Loss: 668.254333, Accuracy: 0.981400\n",
      "Step: 3700, Loss: 720.634705, Accuracy: 0.980900\n",
      "Step: 3800, Loss: 746.161926, Accuracy: 0.981200\n",
      "Step: 3900, Loss: 730.689270, Accuracy: 0.981100\n",
      "Step: 4000, Loss: 677.102356, Accuracy: 0.981000\n"
     ]
    }
   ],
   "source": [
    "i = 0\n",
    "for _ in range(4000):\n",
    "    i += 1\n",
    "    batch_xs, batch_ts = mnist.train.next_batch(100)\n",
    "    sess.run(train_step, feed_dict={x: batch_xs, t: batch_ts})\n",
    "    if i % 100 == 0:\n",
    "        loss_val, acc_val = sess.run([loss, accuracy],\n",
    "            feed_dict={x:mnist.test.images, t:mnist.test.labels})\n",
    "        print ('Step: %d, Loss: %f, Accuracy: %f'\n",
    "               % (i, loss_val, acc_val))\n",
    "        saver.save(sess, 'mdc_session', global_step=i)"
   ]
  },
  {
   "cell_type": "markdown",
   "metadata": {
    "deletable": true,
    "editable": true
   },
   "source": [
    "**[MDC-08]** セッション情報を保存したファイルが生成されていることを確認します。"
   ]
  },
  {
   "cell_type": "code",
   "execution_count": 8,
   "metadata": {
    "collapsed": false,
    "deletable": true,
    "editable": true
   },
   "outputs": [
    {
     "name": "stdout",
     "output_type": "stream",
     "text": [
      "mdc_session-100.data-00000-of-00001   mdc_session-2800.data-00000-of-00001\r\n",
      "mdc_session-100.index\t\t      mdc_session-2800.index\r\n",
      "mdc_session-100.meta\t\t      mdc_session-2800.meta\r\n",
      "mdc_session-1000.data-00000-of-00001  mdc_session-2900.data-00000-of-00001\r\n",
      "mdc_session-1000.index\t\t      mdc_session-2900.index\r\n",
      "mdc_session-1000.meta\t\t      mdc_session-2900.meta\r\n",
      "mdc_session-1100.data-00000-of-00001  mdc_session-300.data-00000-of-00001\r\n",
      "mdc_session-1100.index\t\t      mdc_session-300.index\r\n",
      "mdc_session-1100.meta\t\t      mdc_session-300.meta\r\n",
      "mdc_session-1200.data-00000-of-00001  mdc_session-3000.data-00000-of-00001\r\n",
      "mdc_session-1200.index\t\t      mdc_session-3000.index\r\n",
      "mdc_session-1200.meta\t\t      mdc_session-3000.meta\r\n",
      "mdc_session-1300.data-00000-of-00001  mdc_session-3100.data-00000-of-00001\r\n",
      "mdc_session-1300.index\t\t      mdc_session-3100.index\r\n",
      "mdc_session-1300.meta\t\t      mdc_session-3100.meta\r\n",
      "mdc_session-1400.data-00000-of-00001  mdc_session-3200.data-00000-of-00001\r\n",
      "mdc_session-1400.index\t\t      mdc_session-3200.index\r\n",
      "mdc_session-1400.meta\t\t      mdc_session-3200.meta\r\n",
      "mdc_session-1500.data-00000-of-00001  mdc_session-3300.data-00000-of-00001\r\n",
      "mdc_session-1500.index\t\t      mdc_session-3300.index\r\n",
      "mdc_session-1500.meta\t\t      mdc_session-3300.meta\r\n",
      "mdc_session-1600.data-00000-of-00001  mdc_session-3400.data-00000-of-00001\r\n",
      "mdc_session-1600.index\t\t      mdc_session-3400.index\r\n",
      "mdc_session-1600.meta\t\t      mdc_session-3400.meta\r\n",
      "mdc_session-1700.data-00000-of-00001  mdc_session-3500.data-00000-of-00001\r\n",
      "mdc_session-1700.index\t\t      mdc_session-3500.index\r\n",
      "mdc_session-1700.meta\t\t      mdc_session-3500.meta\r\n",
      "mdc_session-1800.data-00000-of-00001  mdc_session-3600.data-00000-of-00001\r\n",
      "mdc_session-1800.index\t\t      mdc_session-3600.index\r\n",
      "mdc_session-1800.meta\t\t      mdc_session-3600.meta\r\n",
      "mdc_session-1900.data-00000-of-00001  mdc_session-3700.data-00000-of-00001\r\n",
      "mdc_session-1900.index\t\t      mdc_session-3700.index\r\n",
      "mdc_session-1900.meta\t\t      mdc_session-3700.meta\r\n",
      "mdc_session-200.data-00000-of-00001   mdc_session-3800.data-00000-of-00001\r\n",
      "mdc_session-200.index\t\t      mdc_session-3800.index\r\n",
      "mdc_session-200.meta\t\t      mdc_session-3800.meta\r\n",
      "mdc_session-2000.data-00000-of-00001  mdc_session-3900.data-00000-of-00001\r\n",
      "mdc_session-2000.index\t\t      mdc_session-3900.index\r\n",
      "mdc_session-2000.meta\t\t      mdc_session-3900.meta\r\n",
      "mdc_session-2100.data-00000-of-00001  mdc_session-400.data-00000-of-00001\r\n",
      "mdc_session-2100.index\t\t      mdc_session-400.index\r\n",
      "mdc_session-2100.meta\t\t      mdc_session-400.meta\r\n",
      "mdc_session-2200.data-00000-of-00001  mdc_session-4000.data-00000-of-00001\r\n",
      "mdc_session-2200.index\t\t      mdc_session-4000.index\r\n",
      "mdc_session-2200.meta\t\t      mdc_session-4000.meta\r\n",
      "mdc_session-2300.data-00000-of-00001  mdc_session-500.data-00000-of-00001\r\n",
      "mdc_session-2300.index\t\t      mdc_session-500.index\r\n",
      "mdc_session-2300.meta\t\t      mdc_session-500.meta\r\n",
      "mdc_session-2400.data-00000-of-00001  mdc_session-600.data-00000-of-00001\r\n",
      "mdc_session-2400.index\t\t      mdc_session-600.index\r\n",
      "mdc_session-2400.meta\t\t      mdc_session-600.meta\r\n",
      "mdc_session-2500.data-00000-of-00001  mdc_session-700.data-00000-of-00001\r\n",
      "mdc_session-2500.index\t\t      mdc_session-700.index\r\n",
      "mdc_session-2500.meta\t\t      mdc_session-700.meta\r\n",
      "mdc_session-2600.data-00000-of-00001  mdc_session-800.data-00000-of-00001\r\n",
      "mdc_session-2600.index\t\t      mdc_session-800.index\r\n",
      "mdc_session-2600.meta\t\t      mdc_session-800.meta\r\n",
      "mdc_session-2700.data-00000-of-00001  mdc_session-900.data-00000-of-00001\r\n",
      "mdc_session-2700.index\t\t      mdc_session-900.index\r\n",
      "mdc_session-2700.meta\t\t      mdc_session-900.meta\r\n"
     ]
    }
   ],
   "source": [
    "!ls mdc_session*"
   ]
  }
 ],
 "metadata": {
  "kernelspec": {
   "display_name": "Python 3",
   "language": "python",
   "name": "python3"
  },
  "language_info": {
   "codemirror_mode": {
    "name": "ipython",
    "version": 3
   },
   "file_extension": ".py",
   "mimetype": "text/x-python",
   "name": "python",
   "nbconvert_exporter": "python",
   "pygments_lexer": "ipython3",
   "version": "3.5.2"
  }
 },
 "nbformat": 4,
 "nbformat_minor": 0
}
