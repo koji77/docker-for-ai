{
 "cells": [
  {
   "cell_type": "markdown",
   "metadata": {
    "deletable": true,
    "editable": true
   },
   "source": [
    "**[MST-01]** モジュールをインポートして、乱数のシードを設定します。"
   ]
  },
  {
   "cell_type": "code",
   "execution_count": 1,
   "metadata": {
    "collapsed": true,
    "deletable": true,
    "editable": true
   },
   "outputs": [],
   "source": [
    "import tensorflow as tf\n",
    "import numpy as np\n",
    "import matplotlib.pyplot as plt\n",
    "from tensorflow.examples.tutorials.mnist import input_data\n",
    "\n",
    "# jupyter notebook上にグラフを表示するために必要\n",
    "%matplotlib inline\n",
    "\n",
    "np.random.seed(20160612)\n",
    "tf.set_random_seed(20160612)"
   ]
  },
  {
   "cell_type": "markdown",
   "metadata": {
    "deletable": true,
    "editable": true
   },
   "source": [
    "**[MST-02]** MNISTのデータセットを用意します。"
   ]
  },
  {
   "cell_type": "code",
   "execution_count": 2,
   "metadata": {
    "collapsed": false,
    "deletable": true,
    "editable": true
   },
   "outputs": [
    {
     "name": "stdout",
     "output_type": "stream",
     "text": [
      "Extracting /tmp/data/train-images-idx3-ubyte.gz\n",
      "Extracting /tmp/data/train-labels-idx1-ubyte.gz\n",
      "Extracting /tmp/data/t10k-images-idx3-ubyte.gz\n",
      "Extracting /tmp/data/t10k-labels-idx1-ubyte.gz\n"
     ]
    }
   ],
   "source": [
    "mnist = input_data.read_data_sets(\"/tmp/data/\", one_hot=True)"
   ]
  },
  {
   "cell_type": "markdown",
   "metadata": {
    "deletable": true,
    "editable": true
   },
   "source": [
    "**[MST-03]** 単層ニューラルネットワークを表現するクラスを定義します。"
   ]
  },
  {
   "cell_type": "code",
   "execution_count": 3,
   "metadata": {
    "collapsed": false,
    "deletable": true,
    "editable": true
   },
   "outputs": [],
   "source": [
    "class SingleLayerNetwork:\n",
    "    def __init__(self, num_units):\n",
    "        with tf.Graph().as_default():\n",
    "            self.prepare_model(num_units)\n",
    "            self.prepare_session()\n",
    "\n",
    "    def prepare_model(self, num_units):\n",
    "        with tf.name_scope('input'):\n",
    "            x = tf.placeholder(tf.float32, [None, 784], name='input')\n",
    "        \n",
    "        with tf.name_scope('hidden'):\n",
    "            w1 = tf.Variable(tf.truncated_normal([784, num_units]),\n",
    "                             name='weights')        \n",
    "            b1 = tf.Variable(tf.zeros([num_units]), name='biases')\n",
    "            hidden1 = tf.nn.relu(tf.matmul(x, w1) + b1, name='hidden1')\n",
    "        \n",
    "        with tf.name_scope('output'):\n",
    "            w0 = tf.Variable(tf.zeros([num_units, 10]), name='weights')\n",
    "            b0 = tf.Variable(tf.zeros([10]), name='biases')\n",
    "            p = tf.nn.softmax(tf.matmul(hidden1, w0) + b0, name='softmax')\n",
    "\n",
    "        with tf.name_scope('optimizer'):\n",
    "            t = tf.placeholder(tf.float32, [None, 10], name='labels')\n",
    "            loss = -tf.reduce_sum(t * tf.log(p), name='loss')\n",
    "            train_step = tf.train.AdamOptimizer().minimize(loss)\n",
    "\n",
    "        with tf.name_scope('evaluator'):\n",
    "            correct_prediction = tf.equal(tf.argmax(p, 1), tf.argmax(t, 1))\n",
    "            accuracy = tf.reduce_mean(tf.cast(correct_prediction,\n",
    "                                              tf.float32), name='accuracy')\n",
    "\n",
    "        tf.summary.scalar(\"loss\", loss)\n",
    "        tf.summary.scalar(\"accuracy\", accuracy)\n",
    "        tf.summary.histogram(\"weights_hidden\", w1)\n",
    "        tf.summary.histogram(\"biases_hidden\", b1)\n",
    "        tf.summary.histogram(\"weights_output\", w0)\n",
    "        tf.summary.histogram(\"biases_output\", b0)\n",
    "                \n",
    "        self.x, self.t, self.p = x, t, p\n",
    "        self.train_step = train_step\n",
    "        self.loss = loss\n",
    "        self.accuracy = accuracy\n",
    "            \n",
    "    def prepare_session(self):\n",
    "        sess = tf.InteractiveSession()\n",
    "        sess.run(tf.global_variables_initializer())\n",
    "        summary = tf.summary.merge_all()\n",
    "        writer = tf.summary.FileWriter(\"/tmp/mnist_sl_logs\", sess.graph)\n",
    "        \n",
    "        self.sess = sess\n",
    "        self.summary = summary\n",
    "        self.writer = writer"
   ]
  },
  {
   "cell_type": "markdown",
   "metadata": {
    "deletable": true,
    "editable": true
   },
   "source": [
    "**[MST-04]** TensorBoard用のデータ出力ディレクトリーを削除して初期化しておきます。"
   ]
  },
  {
   "cell_type": "code",
   "execution_count": 4,
   "metadata": {
    "collapsed": true,
    "deletable": true,
    "editable": true
   },
   "outputs": [],
   "source": [
    "!rm -rf /tmp/mnist_sl_logs"
   ]
  },
  {
   "cell_type": "markdown",
   "metadata": {
    "deletable": true,
    "editable": true
   },
   "source": [
    "**[MST-05]** パラメーターの最適化を2000回繰り返します。テストセットに対して、約97%の正解率が得られます。"
   ]
  },
  {
   "cell_type": "code",
   "execution_count": 5,
   "metadata": {
    "collapsed": false,
    "deletable": true,
    "editable": true
   },
   "outputs": [
    {
     "name": "stdout",
     "output_type": "stream",
     "text": [
      "Step: 100, Loss: 2980.297363, Accuracy: 0.910100\n",
      "Step: 200, Loss: 2290.247314, Accuracy: 0.933500\n",
      "Step: 300, Loss: 1840.491333, Accuracy: 0.945900\n",
      "Step: 400, Loss: 1786.998779, Accuracy: 0.944600\n",
      "Step: 500, Loss: 1787.423340, Accuracy: 0.943800\n",
      "Step: 600, Loss: 1426.576660, Accuracy: 0.955700\n",
      "Step: 700, Loss: 1283.261353, Accuracy: 0.961900\n",
      "Step: 800, Loss: 1186.479248, Accuracy: 0.963500\n",
      "Step: 900, Loss: 1280.402710, Accuracy: 0.960500\n",
      "Step: 1000, Loss: 1218.264038, Accuracy: 0.963500\n",
      "Step: 1100, Loss: 1049.818848, Accuracy: 0.968900\n",
      "Step: 1200, Loss: 1082.384766, Accuracy: 0.965900\n",
      "Step: 1300, Loss: 1171.892700, Accuracy: 0.962100\n",
      "Step: 1400, Loss: 1071.158936, Accuracy: 0.967700\n",
      "Step: 1500, Loss: 1068.535522, Accuracy: 0.966900\n",
      "Step: 1600, Loss: 1017.148132, Accuracy: 0.967900\n",
      "Step: 1700, Loss: 967.650513, Accuracy: 0.969100\n",
      "Step: 1800, Loss: 973.698364, Accuracy: 0.970500\n",
      "Step: 1900, Loss: 964.145264, Accuracy: 0.971300\n",
      "Step: 2000, Loss: 968.860718, Accuracy: 0.970700\n"
     ]
    }
   ],
   "source": [
    "nn = SingleLayerNetwork(1024)\n",
    "\n",
    "i = 0\n",
    "for _ in range(2000):\n",
    "    i += 1\n",
    "    batch_xs, batch_ts = mnist.train.next_batch(100)\n",
    "    nn.sess.run(nn.train_step, feed_dict={nn.x: batch_xs, nn.t: batch_ts})\n",
    "    if i % 100 == 0:\n",
    "        summary, loss_val, acc_val = nn.sess.run(\n",
    "            [nn.summary, nn.loss, nn.accuracy],\n",
    "            feed_dict={nn.x:mnist.test.images, nn.t: mnist.test.labels})\n",
    "        print ('Step: %d, Loss: %f, Accuracy: %f'\n",
    "               % (i, loss_val, acc_val))\n",
    "        nn.writer.add_summary(summary, i)"
   ]
  }
 ],
 "metadata": {
  "kernelspec": {
   "display_name": "Python 3",
   "language": "python",
   "name": "python3"
  },
  "language_info": {
   "codemirror_mode": {
    "name": "ipython",
    "version": 3
   },
   "file_extension": ".py",
   "mimetype": "text/x-python",
   "name": "python",
   "nbconvert_exporter": "python",
   "pygments_lexer": "ipython3",
   "version": "3.5.2"
  }
 },
 "nbformat": 4,
 "nbformat_minor": 0
}
