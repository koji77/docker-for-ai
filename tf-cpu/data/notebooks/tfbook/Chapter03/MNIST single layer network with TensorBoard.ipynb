{
 "cells": [
  {
   "cell_type": "markdown",
   "metadata": {
    "deletable": true,
    "editable": true
   },
   "source": [
    "**[MST-01]** モジュールをインポートして、乱数のシードを設定します。"
   ]
  },
  {
   "cell_type": "code",
   "execution_count": 1,
   "metadata": {
    "collapsed": true,
    "deletable": true,
    "editable": true
   },
   "outputs": [],
   "source": [
    "import tensorflow as tf\n",
    "import numpy as np\n",
    "import matplotlib.pyplot as plt\n",
    "from tensorflow.examples.tutorials.mnist import input_data\n",
    "\n",
    "# jupyter notebook上にグラフを表示するために必要\n",
    "%matplotlib inline\n",
    "\n",
    "np.random.seed(20160612)\n",
    "tf.set_random_seed(20160612)"
   ]
  },
  {
   "cell_type": "markdown",
   "metadata": {
    "deletable": true,
    "editable": true
   },
   "source": [
    "**[MST-02]** MNISTのデータセットを用意します。"
   ]
  },
  {
   "cell_type": "code",
   "execution_count": 2,
   "metadata": {
    "collapsed": false,
    "deletable": true,
    "editable": true
   },
   "outputs": [
    {
     "name": "stdout",
     "output_type": "stream",
     "text": [
      "Extracting /tmp/data/train-images-idx3-ubyte.gz\n",
      "Extracting /tmp/data/train-labels-idx1-ubyte.gz\n",
      "Extracting /tmp/data/t10k-images-idx3-ubyte.gz\n",
      "Extracting /tmp/data/t10k-labels-idx1-ubyte.gz\n"
     ]
    }
   ],
   "source": [
    "mnist = input_data.read_data_sets(\"/tmp/data/\", one_hot=True)"
   ]
  },
  {
   "cell_type": "markdown",
   "metadata": {
    "deletable": true,
    "editable": true
   },
   "source": [
    "**[MST-03]** 単層ニューラルネットワークを表現するクラスを定義します。"
   ]
  },
  {
   "cell_type": "code",
   "execution_count": 3,
   "metadata": {
    "collapsed": false,
    "deletable": true,
    "editable": true
   },
   "outputs": [],
   "source": [
    "class SingleLayerNetwork:\n",
    "    def __init__(self, num_units):\n",
    "        with tf.Graph().as_default():\n",
    "            self.prepare_model(num_units)\n",
    "            self.prepare_session()\n",
    "\n",
    "    def prepare_model(self, num_units):\n",
    "        with tf.name_scope('input'):\n",
    "            x = tf.placeholder(tf.float32, [None, 784], name='input')\n",
    "        \n",
    "        with tf.name_scope('hidden'):\n",
    "            w1 = tf.Variable(tf.truncated_normal([784, num_units]),\n",
    "                             name='weights')        \n",
    "            b1 = tf.Variable(tf.zeros([num_units]), name='biases')\n",
    "            hidden1 = tf.nn.relu(tf.matmul(x, w1) + b1, name='hidden1')\n",
    "        \n",
    "        with tf.name_scope('output'):\n",
    "            w0 = tf.Variable(tf.zeros([num_units, 10]), name='weights')\n",
    "            b0 = tf.Variable(tf.zeros([10]), name='biases')\n",
    "            p = tf.nn.softmax(tf.matmul(hidden1, w0) + b0, name='softmax')\n",
    "\n",
    "        with tf.name_scope('optimizer'):\n",
    "            t = tf.placeholder(tf.float32, [None, 10], name='labels')\n",
    "            loss = -tf.reduce_sum(t * tf.log(p), name='loss')\n",
    "            train_step = tf.train.AdamOptimizer().minimize(loss)\n",
    "\n",
    "        with tf.name_scope('evaluator'):\n",
    "            correct_prediction = tf.equal(tf.argmax(p, 1), tf.argmax(t, 1))\n",
    "            accuracy = tf.reduce_mean(tf.cast(correct_prediction,\n",
    "                                              tf.float32), name='accuracy')\n",
    "\n",
    "        tf.summary.scalar(\"loss\", loss)\n",
    "        tf.summary.scalar(\"accuracy\", accuracy)\n",
    "        tf.summary.histogram(\"weights_hidden\", w1)\n",
    "        tf.summary.histogram(\"biases_hidden\", b1)\n",
    "        tf.summary.histogram(\"weights_output\", w0)\n",
    "        tf.summary.histogram(\"biases_output\", b0)\n",
    "                \n",
    "        self.x, self.t, self.p = x, t, p\n",
    "        self.train_step = train_step\n",
    "        self.loss = loss\n",
    "        self.accuracy = accuracy\n",
    "            \n",
    "    def prepare_session(self):\n",
    "        sess = tf.InteractiveSession()\n",
    "        sess.run(tf.global_variables_initializer())\n",
    "        summary = tf.summary.merge_all()\n",
    "        writer = tf.summary.FileWriter(\"/tmp/mnist_sl_logs\", sess.graph)\n",
    "        \n",
    "        self.sess = sess\n",
    "        self.summary = summary\n",
    "        self.writer = writer"
   ]
  },
  {
   "cell_type": "markdown",
   "metadata": {
    "deletable": true,
    "editable": true
   },
   "source": [
    "**[MST-04]** TensorBoard用のデータ出力ディレクトリーを削除して初期化しておきます。"
   ]
  },
  {
   "cell_type": "code",
   "execution_count": 4,
   "metadata": {
    "collapsed": true,
    "deletable": true,
    "editable": true
   },
   "outputs": [],
   "source": [
    "!rm -rf /tmp/mnist_sl_logs"
   ]
  },
  {
   "cell_type": "markdown",
   "metadata": {
    "deletable": true,
    "editable": true
   },
   "source": [
    "**[MST-05]** パラメーターの最適化を2000回繰り返します。テストセットに対して、約97%の正解率が得られます。"
   ]
  },
  {
   "cell_type": "code",
   "execution_count": 5,
   "metadata": {
    "collapsed": false,
    "deletable": true,
    "editable": true
   },
   "outputs": [
    {
     "name": "stdout",
     "output_type": "stream",
     "text": [
      "Step: 100, Loss: 3195.709961, Accuracy: 0.901400\n",
      "Step: 200, Loss: 2260.733887, Accuracy: 0.934100\n",
      "Step: 300, Loss: 1925.901367, Accuracy: 0.942800\n",
      "Step: 400, Loss: 1664.252930, Accuracy: 0.951700\n",
      "Step: 500, Loss: 1708.174805, Accuracy: 0.948100\n",
      "Step: 600, Loss: 1340.933716, Accuracy: 0.957600\n",
      "Step: 700, Loss: 1255.990356, Accuracy: 0.961800\n",
      "Step: 800, Loss: 1241.360474, Accuracy: 0.962700\n",
      "Step: 900, Loss: 1233.918823, Accuracy: 0.962100\n",
      "Step: 1000, Loss: 1310.934937, Accuracy: 0.963400\n",
      "Step: 1100, Loss: 1158.888916, Accuracy: 0.965100\n",
      "Step: 1200, Loss: 1096.001709, Accuracy: 0.966700\n",
      "Step: 1300, Loss: 1125.903687, Accuracy: 0.962700\n",
      "Step: 1400, Loss: 1088.984131, Accuracy: 0.967300\n",
      "Step: 1500, Loss: 1026.707275, Accuracy: 0.969400\n",
      "Step: 1600, Loss: 1108.720093, Accuracy: 0.969000\n",
      "Step: 1700, Loss: 987.428894, Accuracy: 0.970400\n",
      "Step: 1800, Loss: 909.503723, Accuracy: 0.972300\n",
      "Step: 1900, Loss: 992.541565, Accuracy: 0.970500\n",
      "Step: 2000, Loss: 980.515198, Accuracy: 0.970800\n"
     ]
    }
   ],
   "source": [
    "nn = SingleLayerNetwork(1024)\n",
    "\n",
    "i = 0\n",
    "for _ in range(2000):\n",
    "    i += 1\n",
    "    batch_xs, batch_ts = mnist.train.next_batch(100)\n",
    "    nn.sess.run(nn.train_step, feed_dict={nn.x: batch_xs, nn.t: batch_ts})\n",
    "    if i % 100 == 0:\n",
    "        summary, loss_val, acc_val = nn.sess.run(\n",
    "            [nn.summary, nn.loss, nn.accuracy],\n",
    "            feed_dict={nn.x:mnist.test.images, nn.t: mnist.test.labels})\n",
    "        print ('Step: %d, Loss: %f, Accuracy: %f'\n",
    "               % (i, loss_val, acc_val))\n",
    "        nn.writer.add_summary(summary, i)"
   ]
  }
 ],
 "metadata": {
  "kernelspec": {
   "display_name": "Python 3",
   "language": "python",
   "name": "python3"
  },
  "language_info": {
   "codemirror_mode": {
    "name": "ipython",
    "version": 3
   },
   "file_extension": ".py",
   "mimetype": "text/x-python",
   "name": "python",
   "nbconvert_exporter": "python",
   "pygments_lexer": "ipython3",
   "version": "3.5.2"
  }
 },
 "nbformat": 4,
 "nbformat_minor": 0
}
