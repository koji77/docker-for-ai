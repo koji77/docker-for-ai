{
 "cells": [
  {
   "cell_type": "markdown",
   "metadata": {
    "deletable": true,
    "editable": true
   },
   "source": [
    "**[MDT-01]** 必要なモジュールをインポートして、乱数のシードを設定します。"
   ]
  },
  {
   "cell_type": "code",
   "execution_count": 1,
   "metadata": {
    "collapsed": true,
    "deletable": true,
    "editable": true
   },
   "outputs": [],
   "source": [
    "import tensorflow as tf\n",
    "import numpy as np\n",
    "import matplotlib.pyplot as plt\n",
    "from tensorflow.examples.tutorials.mnist import input_data\n",
    "\n",
    "# jupyter notebook上にグラフを表示するために必要\n",
    "%matplotlib inline\n",
    "\n",
    "np.random.seed(20160703)\n",
    "tf.set_random_seed(20160703)"
   ]
  },
  {
   "cell_type": "markdown",
   "metadata": {
    "deletable": true,
    "editable": true
   },
   "source": [
    "**[MDT-02]** MNISTのデータセットを用意します。"
   ]
  },
  {
   "cell_type": "code",
   "execution_count": 2,
   "metadata": {
    "collapsed": false,
    "deletable": true,
    "editable": true
   },
   "outputs": [
    {
     "name": "stdout",
     "output_type": "stream",
     "text": [
      "Extracting /tmp/data/train-images-idx3-ubyte.gz\n",
      "Extracting /tmp/data/train-labels-idx1-ubyte.gz\n",
      "Extracting /tmp/data/t10k-images-idx3-ubyte.gz\n",
      "Extracting /tmp/data/t10k-labels-idx1-ubyte.gz\n"
     ]
    }
   ],
   "source": [
    "mnist = input_data.read_data_sets(\"/tmp/data/\", one_hot=True)"
   ]
  },
  {
   "cell_type": "markdown",
   "metadata": {
    "deletable": true,
    "editable": true
   },
   "source": [
    "**[MDT-03]** 畳込みフィルターが1層のCNNを表現するクラスを定義します。"
   ]
  },
  {
   "cell_type": "code",
   "execution_count": 3,
   "metadata": {
    "collapsed": false,
    "deletable": true,
    "editable": true
   },
   "outputs": [],
   "source": [
    "class SingleCNN:\n",
    "    def __init__(self, num_filters, num_units):\n",
    "        with tf.Graph().as_default():\n",
    "            self.prepare_model(num_filters, num_units)\n",
    "            self.prepare_session()\n",
    "\n",
    "    def prepare_model(self, num_filters, num_units):\n",
    "        num_units1 = 14*14*num_filters\n",
    "        num_units2 = num_units\n",
    "        \n",
    "        with tf.name_scope('input'):\n",
    "            x = tf.placeholder(tf.float32, [None, 784], name='input')\n",
    "            x_image = tf.reshape(x, [-1,28,28,1])\n",
    "\n",
    "        with tf.name_scope('convolution'):\n",
    "            W_conv = tf.Variable(\n",
    "                tf.truncated_normal([5,5,1,num_filters], stddev=0.1),\n",
    "                name='conv-filter')\n",
    "            h_conv = tf.nn.conv2d(\n",
    "                x_image, W_conv, strides=[1,1,1,1], padding='SAME',\n",
    "                name='filter-output')\n",
    "\n",
    "        with tf.name_scope('pooling'):            \n",
    "            h_pool =tf.nn.max_pool(h_conv, ksize=[1,2,2,1],\n",
    "                                   strides=[1,2,2,1], padding='SAME',\n",
    "                                   name='max-pool')\n",
    "            h_pool_flat = tf.reshape(h_pool, [-1, 14*14*num_filters],\n",
    "                                     name='pool-output')\n",
    "\n",
    "        with tf.name_scope('fully-connected'):\n",
    "            w2 = tf.Variable(tf.truncated_normal([num_units1, num_units2]))\n",
    "            b2 = tf.Variable(tf.zeros([num_units2]))\n",
    "            hidden2 = tf.nn.relu(tf.matmul(h_pool_flat, w2) + b2,\n",
    "                                 name='fc-output')\n",
    "\n",
    "        with tf.name_scope('softmax'):\n",
    "            w0 = tf.Variable(tf.zeros([num_units2, 10]))\n",
    "            b0 = tf.Variable(tf.zeros([10]))\n",
    "            p = tf.nn.softmax(tf.matmul(hidden2, w0) + b0,\n",
    "                              name='softmax-output')\n",
    "            \n",
    "        with tf.name_scope('optimizer'):\n",
    "            t = tf.placeholder(tf.float32, [None, 10], name='labels')\n",
    "            loss = -tf.reduce_sum(t * tf.log(p), name='loss')\n",
    "            train_step = tf.train.AdamOptimizer(0.0005).minimize(loss)\n",
    "            \n",
    "        with tf.name_scope('evaluator'):\n",
    "            correct_prediction = tf.equal(tf.argmax(p, 1), tf.argmax(t, 1))\n",
    "            accuracy = tf.reduce_mean(tf.cast(correct_prediction,\n",
    "                                              tf.float32), name='accuracy')\n",
    "            \n",
    "        tf.summary.scalar(\"loss\", loss)\n",
    "        tf.summary.scalar(\"accuracy\", accuracy)\n",
    "        tf.summary.histogram(\"convolution_filters\", W_conv)\n",
    "        \n",
    "        self.x, self.t, self.p = x, t, p\n",
    "        self.train_step = train_step\n",
    "        self.loss = loss\n",
    "        self.accuracy = accuracy\n",
    "        \n",
    "    def prepare_session(self):\n",
    "        sess = tf.InteractiveSession()\n",
    "        sess.run(tf.global_variables_initializer())\n",
    "        summary = tf.summary.merge_all()\n",
    "        writer = tf.summary.FileWriter(\"/tmp/mnist_df_logs\", sess.graph)\n",
    "        \n",
    "        self.sess = sess\n",
    "        self.summary = summary\n",
    "        self.writer = writer"
   ]
  },
  {
   "cell_type": "markdown",
   "metadata": {
    "deletable": true,
    "editable": true
   },
   "source": [
    "**[MDT-04]** TensorBoard用のデータ出力ディレクトリーを削除して初期化しておきます。"
   ]
  },
  {
   "cell_type": "code",
   "execution_count": 4,
   "metadata": {
    "collapsed": true,
    "deletable": true,
    "editable": true
   },
   "outputs": [],
   "source": [
    "!rm -rf /tmp/mnist_df_logs"
   ]
  },
  {
   "cell_type": "markdown",
   "metadata": {
    "deletable": true,
    "editable": true
   },
   "source": [
    "**[MDT-05]** パラメーターの最適化を4000回繰り返します。テストセットに対して約98%の正解率が得られます。"
   ]
  },
  {
   "cell_type": "code",
   "execution_count": 5,
   "metadata": {
    "collapsed": false,
    "deletable": true,
    "editable": true
   },
   "outputs": [
    {
     "name": "stdout",
     "output_type": "stream",
     "text": [
      "Step: 50, Loss: 3781.461914, Accuracy: 0.886900\n",
      "Step: 100, Loss: 2582.354736, Accuracy: 0.922300\n",
      "Step: 150, Loss: 2074.648926, Accuracy: 0.938300\n",
      "Step: 200, Loss: 1862.840210, Accuracy: 0.944800\n",
      "Step: 250, Loss: 1629.157349, Accuracy: 0.952100\n",
      "Step: 300, Loss: 1434.361938, Accuracy: 0.955800\n",
      "Step: 350, Loss: 1486.035156, Accuracy: 0.956300\n",
      "Step: 400, Loss: 1480.954102, Accuracy: 0.952600\n",
      "Step: 450, Loss: 1191.707275, Accuracy: 0.964200\n",
      "Step: 500, Loss: 1284.861938, Accuracy: 0.959300\n",
      "Step: 550, Loss: 1125.504272, Accuracy: 0.964200\n",
      "Step: 600, Loss: 1007.071777, Accuracy: 0.968300\n",
      "Step: 650, Loss: 886.366638, Accuracy: 0.973700\n",
      "Step: 700, Loss: 873.569641, Accuracy: 0.972800\n",
      "Step: 750, Loss: 838.903137, Accuracy: 0.972400\n",
      "Step: 800, Loss: 961.285645, Accuracy: 0.970000\n",
      "Step: 850, Loss: 806.711060, Accuracy: 0.975300\n",
      "Step: 900, Loss: 830.252197, Accuracy: 0.972700\n",
      "Step: 950, Loss: 791.276245, Accuracy: 0.975100\n",
      "Step: 1000, Loss: 839.118652, Accuracy: 0.973100\n",
      "Step: 1050, Loss: 822.477112, Accuracy: 0.973700\n",
      "Step: 1100, Loss: 1023.635498, Accuracy: 0.969000\n",
      "Step: 1150, Loss: 699.924683, Accuracy: 0.976600\n",
      "Step: 1200, Loss: 648.220825, Accuracy: 0.979100\n",
      "Step: 1250, Loss: 754.257385, Accuracy: 0.976200\n",
      "Step: 1300, Loss: 687.154114, Accuracy: 0.978900\n",
      "Step: 1350, Loss: 656.112000, Accuracy: 0.978500\n",
      "Step: 1400, Loss: 682.627808, Accuracy: 0.978600\n",
      "Step: 1450, Loss: 671.658691, Accuracy: 0.979700\n",
      "Step: 1500, Loss: 704.957458, Accuracy: 0.977600\n",
      "Step: 1550, Loss: 696.249146, Accuracy: 0.979100\n",
      "Step: 1600, Loss: 702.795776, Accuracy: 0.977600\n",
      "Step: 1650, Loss: 754.957947, Accuracy: 0.975700\n",
      "Step: 1700, Loss: 643.706665, Accuracy: 0.978600\n",
      "Step: 1750, Loss: 667.882080, Accuracy: 0.980200\n",
      "Step: 1800, Loss: 566.666504, Accuracy: 0.982300\n",
      "Step: 1850, Loss: 726.051270, Accuracy: 0.979300\n",
      "Step: 1900, Loss: 730.065430, Accuracy: 0.976200\n",
      "Step: 1950, Loss: 615.826355, Accuracy: 0.981800\n",
      "Step: 2000, Loss: 617.936951, Accuracy: 0.980200\n",
      "Step: 2050, Loss: 592.761108, Accuracy: 0.981300\n",
      "Step: 2100, Loss: 623.968567, Accuracy: 0.980300\n",
      "Step: 2150, Loss: 709.021301, Accuracy: 0.977400\n",
      "Step: 2200, Loss: 700.981018, Accuracy: 0.977900\n",
      "Step: 2250, Loss: 582.537048, Accuracy: 0.980800\n",
      "Step: 2300, Loss: 570.068665, Accuracy: 0.983000\n",
      "Step: 2350, Loss: 558.425110, Accuracy: 0.982500\n",
      "Step: 2400, Loss: 557.656067, Accuracy: 0.982900\n",
      "Step: 2450, Loss: 599.975464, Accuracy: 0.981700\n",
      "Step: 2500, Loss: 711.837402, Accuracy: 0.977500\n",
      "Step: 2550, Loss: 563.974365, Accuracy: 0.982700\n",
      "Step: 2600, Loss: 731.522522, Accuracy: 0.977500\n",
      "Step: 2650, Loss: 616.895142, Accuracy: 0.981500\n",
      "Step: 2700, Loss: 721.901794, Accuracy: 0.977500\n",
      "Step: 2750, Loss: 588.130615, Accuracy: 0.981500\n",
      "Step: 2800, Loss: 558.268372, Accuracy: 0.984300\n",
      "Step: 2850, Loss: 684.982422, Accuracy: 0.979600\n",
      "Step: 2900, Loss: 524.424561, Accuracy: 0.983800\n",
      "Step: 2950, Loss: 551.593628, Accuracy: 0.983300\n",
      "Step: 3000, Loss: 573.549561, Accuracy: 0.981800\n",
      "Step: 3050, Loss: 578.561584, Accuracy: 0.982000\n",
      "Step: 3100, Loss: 568.759399, Accuracy: 0.982900\n",
      "Step: 3150, Loss: 556.807983, Accuracy: 0.983100\n",
      "Step: 3200, Loss: 596.432068, Accuracy: 0.981700\n",
      "Step: 3250, Loss: 619.080627, Accuracy: 0.981100\n",
      "Step: 3300, Loss: 623.394714, Accuracy: 0.982000\n",
      "Step: 3350, Loss: 613.398438, Accuracy: 0.982900\n",
      "Step: 3400, Loss: 624.828369, Accuracy: 0.981300\n",
      "Step: 3450, Loss: 570.369629, Accuracy: 0.984500\n",
      "Step: 3500, Loss: 560.711853, Accuracy: 0.984100\n",
      "Step: 3550, Loss: 571.963013, Accuracy: 0.983900\n",
      "Step: 3600, Loss: 594.177185, Accuracy: 0.982400\n",
      "Step: 3650, Loss: 576.818848, Accuracy: 0.982900\n",
      "Step: 3700, Loss: 616.150879, Accuracy: 0.982700\n",
      "Step: 3750, Loss: 569.501221, Accuracy: 0.984100\n",
      "Step: 3800, Loss: 617.694336, Accuracy: 0.982100\n",
      "Step: 3850, Loss: 583.976318, Accuracy: 0.983400\n",
      "Step: 3900, Loss: 571.022705, Accuracy: 0.984100\n",
      "Step: 3950, Loss: 602.885620, Accuracy: 0.983600\n",
      "Step: 4000, Loss: 698.641541, Accuracy: 0.981800\n"
     ]
    }
   ],
   "source": [
    "cnn = SingleCNN(16, 1024)\n",
    "\n",
    "i = 0\n",
    "for _ in range(4000):\n",
    "    i += 1\n",
    "    batch_xs, batch_ts = mnist.train.next_batch(100)\n",
    "    cnn.sess.run(cnn.train_step, feed_dict={cnn.x:batch_xs, cnn.t:batch_ts})\n",
    "    if i % 50 == 0:\n",
    "        summary, loss_val, acc_val = cnn.sess.run(\n",
    "            [cnn.summary, cnn.loss, cnn.accuracy],\n",
    "            feed_dict={cnn.x:mnist.test.images, cnn.t:mnist.test.labels})\n",
    "        print ('Step: %d, Loss: %f, Accuracy: %f'\n",
    "               % (i, loss_val, acc_val))\n",
    "        cnn.writer.add_summary(summary, i)"
   ]
  }
 ],
 "metadata": {
  "kernelspec": {
   "display_name": "Python 3",
   "language": "python",
   "name": "python3"
  },
  "language_info": {
   "codemirror_mode": {
    "name": "ipython",
    "version": 3
   },
   "file_extension": ".py",
   "mimetype": "text/x-python",
   "name": "python",
   "nbconvert_exporter": "python",
   "pygments_lexer": "ipython3",
   "version": "3.5.2"
  }
 },
 "nbformat": 4,
 "nbformat_minor": 0
}
