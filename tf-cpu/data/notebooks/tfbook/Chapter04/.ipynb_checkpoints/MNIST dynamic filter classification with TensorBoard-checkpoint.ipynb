{
 "cells": [
  {
   "cell_type": "markdown",
   "metadata": {
    "deletable": true,
    "editable": true
   },
   "source": [
    "**[MDT-01]** 必要なモジュールをインポートして、乱数のシードを設定します。"
   ]
  },
  {
   "cell_type": "code",
   "execution_count": 1,
   "metadata": {
    "collapsed": true,
    "deletable": true,
    "editable": true
   },
   "outputs": [],
   "source": [
    "import tensorflow as tf\n",
    "import numpy as np\n",
    "import matplotlib.pyplot as plt\n",
    "from tensorflow.examples.tutorials.mnist import input_data\n",
    "\n",
    "# jupyter notebook上にグラフを表示するために必要\n",
    "%matplotlib inline\n",
    "\n",
    "np.random.seed(20160703)\n",
    "tf.set_random_seed(20160703)"
   ]
  },
  {
   "cell_type": "markdown",
   "metadata": {
    "deletable": true,
    "editable": true
   },
   "source": [
    "**[MDT-02]** MNISTのデータセットを用意します。"
   ]
  },
  {
   "cell_type": "code",
   "execution_count": 2,
   "metadata": {
    "collapsed": false,
    "deletable": true,
    "editable": true
   },
   "outputs": [
    {
     "name": "stdout",
     "output_type": "stream",
     "text": [
      "Extracting /tmp/data/train-images-idx3-ubyte.gz\n",
      "Extracting /tmp/data/train-labels-idx1-ubyte.gz\n",
      "Extracting /tmp/data/t10k-images-idx3-ubyte.gz\n",
      "Extracting /tmp/data/t10k-labels-idx1-ubyte.gz\n"
     ]
    }
   ],
   "source": [
    "mnist = input_data.read_data_sets(\"/tmp/data/\", one_hot=True)"
   ]
  },
  {
   "cell_type": "markdown",
   "metadata": {
    "deletable": true,
    "editable": true
   },
   "source": [
    "**[MDT-03]** 畳込みフィルターが1層のCNNを表現するクラスを定義します。"
   ]
  },
  {
   "cell_type": "code",
   "execution_count": 3,
   "metadata": {
    "collapsed": false,
    "deletable": true,
    "editable": true
   },
   "outputs": [],
   "source": [
    "class SingleCNN:\n",
    "    def __init__(self, num_filters, num_units):\n",
    "        with tf.Graph().as_default():\n",
    "            self.prepare_model(num_filters, num_units)\n",
    "            self.prepare_session()\n",
    "\n",
    "    def prepare_model(self, num_filters, num_units):\n",
    "        num_units1 = 14*14*num_filters\n",
    "        num_units2 = num_units\n",
    "        \n",
    "        with tf.name_scope('input'):\n",
    "            x = tf.placeholder(tf.float32, [None, 784], name='input')\n",
    "            x_image = tf.reshape(x, [-1,28,28,1])\n",
    "\n",
    "        with tf.name_scope('convolution'):\n",
    "            W_conv = tf.Variable(\n",
    "                tf.truncated_normal([5,5,1,num_filters], stddev=0.1),\n",
    "                name='conv-filter')\n",
    "            h_conv = tf.nn.conv2d(\n",
    "                x_image, W_conv, strides=[1,1,1,1], padding='SAME',\n",
    "                name='filter-output')\n",
    "\n",
    "        with tf.name_scope('pooling'):            \n",
    "            h_pool =tf.nn.max_pool(h_conv, ksize=[1,2,2,1],\n",
    "                                   strides=[1,2,2,1], padding='SAME',\n",
    "                                   name='max-pool')\n",
    "            h_pool_flat = tf.reshape(h_pool, [-1, 14*14*num_filters],\n",
    "                                     name='pool-output')\n",
    "\n",
    "        with tf.name_scope('fully-connected'):\n",
    "            w2 = tf.Variable(tf.truncated_normal([num_units1, num_units2]))\n",
    "            b2 = tf.Variable(tf.zeros([num_units2]))\n",
    "            hidden2 = tf.nn.relu(tf.matmul(h_pool_flat, w2) + b2,\n",
    "                                 name='fc-output')\n",
    "\n",
    "        with tf.name_scope('softmax'):\n",
    "            w0 = tf.Variable(tf.zeros([num_units2, 10]))\n",
    "            b0 = tf.Variable(tf.zeros([10]))\n",
    "            p = tf.nn.softmax(tf.matmul(hidden2, w0) + b0,\n",
    "                              name='softmax-output')\n",
    "            \n",
    "        with tf.name_scope('optimizer'):\n",
    "            t = tf.placeholder(tf.float32, [None, 10], name='labels')\n",
    "            loss = -tf.reduce_sum(t * tf.log(p), name='loss')\n",
    "            train_step = tf.train.AdamOptimizer(0.0005).minimize(loss)\n",
    "            \n",
    "        with tf.name_scope('evaluator'):\n",
    "            correct_prediction = tf.equal(tf.argmax(p, 1), tf.argmax(t, 1))\n",
    "            accuracy = tf.reduce_mean(tf.cast(correct_prediction,\n",
    "                                              tf.float32), name='accuracy')\n",
    "            \n",
    "        tf.summary.scalar(\"loss\", loss)\n",
    "        tf.summary.scalar(\"accuracy\", accuracy)\n",
    "        tf.summary.histogram(\"convolution_filters\", W_conv)\n",
    "        \n",
    "        self.x, self.t, self.p = x, t, p\n",
    "        self.train_step = train_step\n",
    "        self.loss = loss\n",
    "        self.accuracy = accuracy\n",
    "        \n",
    "    def prepare_session(self):\n",
    "        sess = tf.InteractiveSession()\n",
    "        sess.run(tf.global_variables_initializer())\n",
    "        summary = tf.summary.merge_all()\n",
    "        writer = tf.summary.FileWriter(\"/tmp/mnist_df_logs\", sess.graph)\n",
    "        \n",
    "        self.sess = sess\n",
    "        self.summary = summary\n",
    "        self.writer = writer"
   ]
  },
  {
   "cell_type": "markdown",
   "metadata": {
    "deletable": true,
    "editable": true
   },
   "source": [
    "**[MDT-04]** TensorBoard用のデータ出力ディレクトリーを削除して初期化しておきます。"
   ]
  },
  {
   "cell_type": "code",
   "execution_count": 4,
   "metadata": {
    "collapsed": true,
    "deletable": true,
    "editable": true
   },
   "outputs": [],
   "source": [
    "!rm -rf /tmp/mnist_df_logs"
   ]
  },
  {
   "cell_type": "markdown",
   "metadata": {
    "deletable": true,
    "editable": true
   },
   "source": [
    "**[MDT-05]** パラメーターの最適化を4000回繰り返します。テストセットに対して約98%の正解率が得られます。"
   ]
  },
  {
   "cell_type": "code",
   "execution_count": 5,
   "metadata": {
    "collapsed": false,
    "deletable": true,
    "editable": true
   },
   "outputs": [
    {
     "name": "stdout",
     "output_type": "stream",
     "text": [
      "Step: 50, Loss: 3722.721924, Accuracy: 0.888100\n",
      "Step: 100, Loss: 2438.694336, Accuracy: 0.926900\n",
      "Step: 150, Loss: 2014.084229, Accuracy: 0.938700\n",
      "Step: 200, Loss: 1855.182129, Accuracy: 0.946300\n",
      "Step: 250, Loss: 1564.368774, Accuracy: 0.954100\n",
      "Step: 300, Loss: 1382.145752, Accuracy: 0.959900\n",
      "Step: 350, Loss: 1450.566772, Accuracy: 0.955800\n",
      "Step: 400, Loss: 1558.676147, Accuracy: 0.950900\n",
      "Step: 450, Loss: 1196.227783, Accuracy: 0.963700\n",
      "Step: 500, Loss: 1147.151367, Accuracy: 0.963700\n",
      "Step: 550, Loss: 1102.382080, Accuracy: 0.967600\n",
      "Step: 600, Loss: 1038.990845, Accuracy: 0.968600\n",
      "Step: 650, Loss: 835.270874, Accuracy: 0.974300\n",
      "Step: 700, Loss: 906.149963, Accuracy: 0.973100\n",
      "Step: 750, Loss: 839.464661, Accuracy: 0.973900\n",
      "Step: 800, Loss: 1023.351013, Accuracy: 0.969300\n",
      "Step: 850, Loss: 830.340027, Accuracy: 0.974100\n",
      "Step: 900, Loss: 842.655090, Accuracy: 0.975400\n",
      "Step: 950, Loss: 799.898438, Accuracy: 0.975900\n",
      "Step: 1000, Loss: 771.063232, Accuracy: 0.975500\n",
      "Step: 1050, Loss: 841.823120, Accuracy: 0.973100\n",
      "Step: 1100, Loss: 864.813721, Accuracy: 0.973300\n",
      "Step: 1150, Loss: 777.567139, Accuracy: 0.975900\n",
      "Step: 1200, Loss: 660.149902, Accuracy: 0.978100\n",
      "Step: 1250, Loss: 778.746643, Accuracy: 0.977800\n",
      "Step: 1300, Loss: 723.187134, Accuracy: 0.977800\n",
      "Step: 1350, Loss: 677.805420, Accuracy: 0.979600\n",
      "Step: 1400, Loss: 695.480591, Accuracy: 0.980200\n",
      "Step: 1450, Loss: 706.910645, Accuracy: 0.978300\n",
      "Step: 1500, Loss: 685.231323, Accuracy: 0.979700\n",
      "Step: 1550, Loss: 673.958374, Accuracy: 0.978500\n",
      "Step: 1600, Loss: 682.312744, Accuracy: 0.978200\n",
      "Step: 1650, Loss: 714.793762, Accuracy: 0.977900\n",
      "Step: 1700, Loss: 597.888428, Accuracy: 0.981800\n",
      "Step: 1750, Loss: 636.065674, Accuracy: 0.979300\n",
      "Step: 1800, Loss: 614.216309, Accuracy: 0.981800\n",
      "Step: 1850, Loss: 1029.403320, Accuracy: 0.969000\n",
      "Step: 1900, Loss: 870.390625, Accuracy: 0.973900\n",
      "Step: 1950, Loss: 622.144775, Accuracy: 0.981800\n",
      "Step: 2000, Loss: 751.118835, Accuracy: 0.976300\n",
      "Step: 2050, Loss: 634.635254, Accuracy: 0.980200\n",
      "Step: 2100, Loss: 660.671631, Accuracy: 0.980600\n",
      "Step: 2150, Loss: 682.716370, Accuracy: 0.978800\n",
      "Step: 2200, Loss: 694.579346, Accuracy: 0.978800\n",
      "Step: 2250, Loss: 613.418640, Accuracy: 0.982400\n",
      "Step: 2300, Loss: 642.994629, Accuracy: 0.981500\n",
      "Step: 2350, Loss: 599.124512, Accuracy: 0.982400\n",
      "Step: 2400, Loss: 644.649597, Accuracy: 0.981300\n",
      "Step: 2450, Loss: 620.472595, Accuracy: 0.981200\n",
      "Step: 2500, Loss: 619.434692, Accuracy: 0.981300\n",
      "Step: 2550, Loss: 660.594055, Accuracy: 0.980800\n",
      "Step: 2600, Loss: 745.501404, Accuracy: 0.978400\n",
      "Step: 2650, Loss: 639.241211, Accuracy: 0.980900\n",
      "Step: 2700, Loss: 670.554199, Accuracy: 0.978900\n",
      "Step: 2750, Loss: 596.208679, Accuracy: 0.983100\n",
      "Step: 2800, Loss: 599.643677, Accuracy: 0.981000\n",
      "Step: 2850, Loss: 567.806030, Accuracy: 0.984200\n",
      "Step: 2900, Loss: 621.282410, Accuracy: 0.981200\n",
      "Step: 2950, Loss: 632.361084, Accuracy: 0.981800\n",
      "Step: 3000, Loss: 626.564819, Accuracy: 0.982100\n",
      "Step: 3050, Loss: 617.366333, Accuracy: 0.981100\n",
      "Step: 3100, Loss: 605.283447, Accuracy: 0.980300\n",
      "Step: 3150, Loss: 612.859924, Accuracy: 0.982000\n",
      "Step: 3200, Loss: 610.750977, Accuracy: 0.982700\n",
      "Step: 3250, Loss: 607.518860, Accuracy: 0.982200\n",
      "Step: 3300, Loss: 636.964844, Accuracy: 0.981800\n",
      "Step: 3350, Loss: 656.271484, Accuracy: 0.982100\n",
      "Step: 3400, Loss: 639.877197, Accuracy: 0.981500\n",
      "Step: 3450, Loss: 624.683350, Accuracy: 0.983300\n",
      "Step: 3500, Loss: 603.741821, Accuracy: 0.984500\n",
      "Step: 3550, Loss: 633.305298, Accuracy: 0.982700\n",
      "Step: 3600, Loss: 716.764893, Accuracy: 0.980900\n",
      "Step: 3650, Loss: 760.619385, Accuracy: 0.978800\n",
      "Step: 3700, Loss: 744.054749, Accuracy: 0.980600\n",
      "Step: 3750, Loss: 654.055969, Accuracy: 0.981800\n",
      "Step: 3800, Loss: 713.355835, Accuracy: 0.981600\n",
      "Step: 3850, Loss: 778.498413, Accuracy: 0.978200\n",
      "Step: 3900, Loss: 663.223267, Accuracy: 0.981800\n",
      "Step: 3950, Loss: 786.793396, Accuracy: 0.981000\n",
      "Step: 4000, Loss: 691.923218, Accuracy: 0.980500\n"
     ]
    }
   ],
   "source": [
    "cnn = SingleCNN(16, 1024)\n",
    "\n",
    "i = 0\n",
    "for _ in range(4000):\n",
    "    i += 1\n",
    "    batch_xs, batch_ts = mnist.train.next_batch(100)\n",
    "    cnn.sess.run(cnn.train_step, feed_dict={cnn.x:batch_xs, cnn.t:batch_ts})\n",
    "    if i % 50 == 0:\n",
    "        summary, loss_val, acc_val = cnn.sess.run(\n",
    "            [cnn.summary, cnn.loss, cnn.accuracy],\n",
    "            feed_dict={cnn.x:mnist.test.images, cnn.t:mnist.test.labels})\n",
    "        print ('Step: %d, Loss: %f, Accuracy: %f'\n",
    "               % (i, loss_val, acc_val))\n",
    "        cnn.writer.add_summary(summary, i)"
   ]
  }
 ],
 "metadata": {
  "kernelspec": {
   "display_name": "Python 3",
   "language": "python",
   "name": "python3"
  },
  "language_info": {
   "codemirror_mode": {
    "name": "ipython",
    "version": 3
   },
   "file_extension": ".py",
   "mimetype": "text/x-python",
   "name": "python",
   "nbconvert_exporter": "python",
   "pygments_lexer": "ipython3",
   "version": "3.5.2"
  }
 },
 "nbformat": 4,
 "nbformat_minor": 0
}
